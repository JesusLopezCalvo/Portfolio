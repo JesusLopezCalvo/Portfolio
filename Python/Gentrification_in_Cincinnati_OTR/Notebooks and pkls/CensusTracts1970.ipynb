{
 "cells": [
  {
   "cell_type": "markdown",
   "id": "c55904e7-68ee-4472-9e0e-e80701959b98",
   "metadata": {},
   "source": [
    "# Importing needed libraries"
   ]
  },
  {
   "cell_type": "code",
   "execution_count": 1,
   "id": "cc7bc998-6020-4b69-9517-96c7fc28a8bb",
   "metadata": {},
   "outputs": [],
   "source": [
    "import pandas as pd\n",
    "import matplotlib.pyplot as plt\n",
    "import openpyxl\n",
    "import numpy as np"
   ]
  },
  {
   "cell_type": "markdown",
   "id": "3017e62c-621a-410a-ac3b-027e7f59fb8f",
   "metadata": {
    "tags": []
   },
   "source": [
    "# Importing Data"
   ]
  },
  {
   "cell_type": "code",
   "execution_count": 2,
   "id": "140d7a0f-14d0-422a-9df3-26f055af8051",
   "metadata": {},
   "outputs": [],
   "source": [
    "#Importing data\n",
    "pdf1970 = pd.read_excel('./../Data sets/Census 1970.xlsx')"
   ]
  },
  {
   "cell_type": "code",
   "execution_count": 3,
   "id": "6faa33cb-12ae-4759-ab80-70a56b64e9f5",
   "metadata": {
    "tags": []
   },
   "outputs": [
    {
     "data": {
      "text/html": [
       "<div>\n",
       "<style scoped>\n",
       "    .dataframe tbody tr th:only-of-type {\n",
       "        vertical-align: middle;\n",
       "    }\n",
       "\n",
       "    .dataframe tbody tr th {\n",
       "        vertical-align: top;\n",
       "    }\n",
       "\n",
       "    .dataframe thead th {\n",
       "        text-align: right;\n",
       "    }\n",
       "</style>\n",
       "<table border=\"1\" class=\"dataframe\">\n",
       "  <thead>\n",
       "    <tr style=\"text-align: right;\">\n",
       "      <th></th>\n",
       "      <th>Unnamed: 0</th>\n",
       "      <th>Social Explorer - Census 1970</th>\n",
       "      <th>Unnamed: 2</th>\n",
       "      <th>Unnamed: 3</th>\n",
       "      <th>Unnamed: 4</th>\n",
       "      <th>Unnamed: 5</th>\n",
       "      <th>Unnamed: 6</th>\n",
       "      <th>Unnamed: 7</th>\n",
       "      <th>Unnamed: 8</th>\n",
       "      <th>Unnamed: 9</th>\n",
       "      <th>Unnamed: 10</th>\n",
       "    </tr>\n",
       "  </thead>\n",
       "  <tbody>\n",
       "    <tr>\n",
       "      <th>0</th>\n",
       "      <td>Statistics</td>\n",
       "      <td>Census Tract 9, Hamilton County, Ohio</td>\n",
       "      <td>NaN</td>\n",
       "      <td>Census Tract 10, Hamilton County, Ohio</td>\n",
       "      <td>NaN</td>\n",
       "      <td>Census Tract 16, Hamilton County, Ohio</td>\n",
       "      <td>NaN</td>\n",
       "      <td>Census Tract 17, Hamilton County, Ohio</td>\n",
       "      <td>NaN</td>\n",
       "      <td>TOTAL (All Selected Census Tracts)</td>\n",
       "      <td>NaN</td>\n",
       "    </tr>\n",
       "    <tr>\n",
       "      <th>1</th>\n",
       "      <td>NaN</td>\n",
       "      <td>NaN</td>\n",
       "      <td>NaN</td>\n",
       "      <td>NaN</td>\n",
       "      <td>NaN</td>\n",
       "      <td>NaN</td>\n",
       "      <td>NaN</td>\n",
       "      <td>NaN</td>\n",
       "      <td>NaN</td>\n",
       "      <td>NaN</td>\n",
       "      <td>NaN</td>\n",
       "    </tr>\n",
       "    <tr>\n",
       "      <th>2</th>\n",
       "      <td>SE:T1. Total Population</td>\n",
       "      <td>NaN</td>\n",
       "      <td>NaN</td>\n",
       "      <td>NaN</td>\n",
       "      <td>NaN</td>\n",
       "      <td>NaN</td>\n",
       "      <td>NaN</td>\n",
       "      <td>NaN</td>\n",
       "      <td>NaN</td>\n",
       "      <td>NaN</td>\n",
       "      <td>NaN</td>\n",
       "    </tr>\n",
       "    <tr>\n",
       "      <th>3</th>\n",
       "      <td>Total Population</td>\n",
       "      <td>3457</td>\n",
       "      <td>NaN</td>\n",
       "      <td>2893</td>\n",
       "      <td>NaN</td>\n",
       "      <td>3127</td>\n",
       "      <td>NaN</td>\n",
       "      <td>3544</td>\n",
       "      <td>NaN</td>\n",
       "      <td>13021</td>\n",
       "      <td>NaN</td>\n",
       "    </tr>\n",
       "    <tr>\n",
       "      <th>4</th>\n",
       "      <td>NaN</td>\n",
       "      <td>NaN</td>\n",
       "      <td>NaN</td>\n",
       "      <td>NaN</td>\n",
       "      <td>NaN</td>\n",
       "      <td>NaN</td>\n",
       "      <td>NaN</td>\n",
       "      <td>NaN</td>\n",
       "      <td>NaN</td>\n",
       "      <td>NaN</td>\n",
       "      <td>NaN</td>\n",
       "    </tr>\n",
       "  </tbody>\n",
       "</table>\n",
       "</div>"
      ],
      "text/plain": [
       "                Unnamed: 0          Social Explorer - Census 1970  Unnamed: 2  \\\n",
       "0               Statistics  Census Tract 9, Hamilton County, Ohio         NaN   \n",
       "1                      NaN                                    NaN         NaN   \n",
       "2  SE:T1. Total Population                                    NaN         NaN   \n",
       "3         Total Population                                   3457         NaN   \n",
       "4                      NaN                                    NaN         NaN   \n",
       "\n",
       "                               Unnamed: 3  Unnamed: 4  \\\n",
       "0  Census Tract 10, Hamilton County, Ohio         NaN   \n",
       "1                                     NaN         NaN   \n",
       "2                                     NaN         NaN   \n",
       "3                                    2893         NaN   \n",
       "4                                     NaN         NaN   \n",
       "\n",
       "                               Unnamed: 5  Unnamed: 6  \\\n",
       "0  Census Tract 16, Hamilton County, Ohio         NaN   \n",
       "1                                     NaN         NaN   \n",
       "2                                     NaN         NaN   \n",
       "3                                    3127         NaN   \n",
       "4                                     NaN         NaN   \n",
       "\n",
       "                               Unnamed: 7  Unnamed: 8  \\\n",
       "0  Census Tract 17, Hamilton County, Ohio         NaN   \n",
       "1                                     NaN         NaN   \n",
       "2                                     NaN         NaN   \n",
       "3                                    3544         NaN   \n",
       "4                                     NaN         NaN   \n",
       "\n",
       "                           Unnamed: 9  Unnamed: 10  \n",
       "0  TOTAL (All Selected Census Tracts)          NaN  \n",
       "1                                 NaN          NaN  \n",
       "2                                 NaN          NaN  \n",
       "3                               13021          NaN  \n",
       "4                                 NaN          NaN  "
      ]
     },
     "execution_count": 3,
     "metadata": {},
     "output_type": "execute_result"
    }
   ],
   "source": [
    "#Info about rows and columns\n",
    "pdf1970.shape\n",
    "\n",
    "#Changing the number of rows displayed\n",
    "pd.set_option('display.max_rows', None)\n",
    "\n",
    "#displaying first 5 rows\n",
    "pdf1970.head()\n"
   ]
  },
  {
   "cell_type": "markdown",
   "id": "5bb378f1-564a-453a-9fa5-fa1b77866bad",
   "metadata": {},
   "source": [
    "# Cleaning data"
   ]
  },
  {
   "cell_type": "code",
   "execution_count": 4,
   "id": "621ecc19-9b9f-4b54-9338-18955cd81673",
   "metadata": {},
   "outputs": [
    {
     "data": {
      "text/plain": [
       "['Unnamed: 0',\n",
       " 'Social Explorer - Census 1970',\n",
       " 'Unnamed: 2',\n",
       " 'Unnamed: 3',\n",
       " 'Unnamed: 4',\n",
       " 'Unnamed: 5',\n",
       " 'Unnamed: 6',\n",
       " 'Unnamed: 7',\n",
       " 'Unnamed: 8',\n",
       " 'Unnamed: 9',\n",
       " 'Unnamed: 10']"
      ]
     },
     "execution_count": 4,
     "metadata": {},
     "output_type": "execute_result"
    }
   ],
   "source": [
    "#Removing rows with all NaN values \n",
    "pdf1970 = pdf1970.dropna(subset=[\"Unnamed: 0\"])\n",
    "pdf1970 = pdf1970.dropna(subset=[\"Social Explorer - Census 1970\"])\n",
    "\n",
    "# Replacing NaN by 0s\n",
    "pdf1970 = pdf1970.fillna(0)\n",
    "\n",
    "#Dropping first row\n",
    "pdf1970 = pdf1970.drop([0])\n",
    "\n",
    "#Showing a list of columns names\n",
    "list(pdf1970)"
   ]
  },
  {
   "cell_type": "code",
   "execution_count": 5,
   "id": "997ebe9e-2594-4c45-9c45-25c88f93a67d",
   "metadata": {},
   "outputs": [],
   "source": [
    "#Renaming columns\n",
    "pdf1970.columns = ['Category',\n",
    "                   'Census Tract 9, Hamilton County, Ohio',\n",
    "                   'Census Tract 9, Percentage',\n",
    "                   'Census Tract 10, Hamilton County, Ohio',\n",
    "                   'Census Tract 10, Percentage',\n",
    "                   'Census Tract 16, Hamilton County, Ohio',\n",
    "                   'Census Tract 16, Percentage',\n",
    "                   'Census Tract 17, Hamilton County, Ohio',\n",
    "                   'Census Tract 17, Percentage',\n",
    "                   'TOTAL (All Selected Census Tracts)',\n",
    "                   'TOTAL Percentage']"
   ]
  },
  {
   "cell_type": "code",
   "execution_count": 6,
   "id": "57f25987-32be-4ed3-b25d-ffa56626ea50",
   "metadata": {},
   "outputs": [],
   "source": [
    "#Removing columns I dont want\n",
    "for col in pdf1970.columns:\n",
    "    if 'Percentage' in col:\n",
    "        del pdf1970[col]\n",
    "             "
   ]
  },
  {
   "cell_type": "code",
   "execution_count": 7,
   "id": "5abc44d6-d4da-4245-a866-418b7904bd0a",
   "metadata": {},
   "outputs": [],
   "source": [
    "#Obtaining index values of all the rows\n",
    "pdf1970.index.values\n",
    "\n",
    "\n",
    "#Removing all the rows I don't want\n",
    "pdf1970 = pdf1970.drop([3,   6,   7,   8,  11,  14,  15,  16,  19,  20,  21,  22,  23,\n",
    "        24,  25,  26,  27,  28,  29,  30,  39,  40,\n",
    "        41,  44,  45,  46,  47,  48,  49,  50,  51,  52,  53,  54,  57,\n",
    "        58,  59,  60,  61,  62,  63,  64,  65,  66,  67,  68,  69,  72,\n",
    "        73,  74,  75,  76,  77,  78,  79,  80,  81,  82,  83,  84,  85,\n",
    "        88,  89,  90,  91,  92,  93,  94,  95,  96,  97,  98,  99, 100,\n",
    "       101, 102, 103, 104, 105, 106, 109, 110, 111, 112, 113, 114, 115,\n",
    "       116, 117, 118, 121, 122, 123, 124, 125, 126, 127, 128, 131, 132,\n",
    "       133, 134, 135, 136, 137, 138, 139, 140, 141, 142, 143, 144, 147,\n",
    "       148, 149, 150, 151, 154, 155, 156, 159, 160, 161, 162, 163, 164,\n",
    "       165, 168, 169, 170, 173, 176, 177, 180, 181, 182, 185, 186, 187,\n",
    "       190, 191, 192, 195, 196, 197, 200, 201, 202, 205, 206, 207, 208,\n",
    "       209, 210, 211, 212, 213, 214, 215, 216, 217, 218, 219, 220, 221,\n",
    "       222, 223, 226, 229, 230, 231, 234, 235, 236, 239, 240, 241, 242,\n",
    "       243, 244, 245, 246, 247, 248, 249, 252, 253, 254, 255, 256, 257,\n",
    "       258, 259, 260, 261, 262, 263, 266, 267, 268, 269, 270, 271, 272,\n",
    "       273, 276, 277, 278, 279, 284, 285, 286, 287, 288])"
   ]
  },
  {
   "cell_type": "code",
   "execution_count": 8,
   "id": "542053e7-55cb-4d69-8e48-338b3a81bba9",
   "metadata": {},
   "outputs": [
    {
     "data": {
      "text/plain": [
       "Category                                   object\n",
       "Census Tract 9, Hamilton County, Ohio     float64\n",
       "Census Tract 10, Hamilton County, Ohio    float64\n",
       "Census Tract 16, Hamilton County, Ohio    float64\n",
       "Census Tract 17, Hamilton County, Ohio    float64\n",
       "TOTAL (All Selected Census Tracts)        float64\n",
       "dtype: object"
      ]
     },
     "execution_count": 8,
     "metadata": {},
     "output_type": "execute_result"
    }
   ],
   "source": [
    "#Changing the data to floats\n",
    "pdf1970 = pdf1970.astype({'Census Tract 9, Hamilton County, Ohio': np.float64, 'Census Tract 10, Hamilton County, Ohio':np.float64,\n",
    "                          'Census Tract 16, Hamilton County, Ohio':np.float64,'Census Tract 17, Hamilton County, Ohio':np.float64,\n",
    "                          'TOTAL (All Selected Census Tracts)':np.float64})\n",
    "\n",
    "#Checking if data are floats now\n",
    "pdf1970.dtypes"
   ]
  },
  {
   "cell_type": "code",
   "execution_count": 9,
   "id": "0229be39-bf2d-43a7-bcff-107adfe7b427",
   "metadata": {},
   "outputs": [
    {
     "data": {
      "text/html": [
       "<div>\n",
       "<style scoped>\n",
       "    .dataframe tbody tr th:only-of-type {\n",
       "        vertical-align: middle;\n",
       "    }\n",
       "\n",
       "    .dataframe tbody tr th {\n",
       "        vertical-align: top;\n",
       "    }\n",
       "\n",
       "    .dataframe thead th {\n",
       "        text-align: right;\n",
       "    }\n",
       "</style>\n",
       "<table border=\"1\" class=\"dataframe\">\n",
       "  <thead>\n",
       "    <tr style=\"text-align: right;\">\n",
       "      <th></th>\n",
       "      <th>Category</th>\n",
       "      <th>Census Tract 9, Hamilton County, Ohio</th>\n",
       "      <th>Census Tract 10, Hamilton County, Ohio</th>\n",
       "      <th>Census Tract 16, Hamilton County, Ohio</th>\n",
       "      <th>Census Tract 17, Hamilton County, Ohio</th>\n",
       "      <th>TOTAL (All Selected Census Tracts)</th>\n",
       "    </tr>\n",
       "  </thead>\n",
       "  <tbody>\n",
       "    <tr>\n",
       "      <th>33</th>\n",
       "      <td>Total Population:</td>\n",
       "      <td>3457.0</td>\n",
       "      <td>2893.0</td>\n",
       "      <td>3127.0</td>\n",
       "      <td>3544.0</td>\n",
       "      <td>13021.0</td>\n",
       "    </tr>\n",
       "    <tr>\n",
       "      <th>34</th>\n",
       "      <td>White</td>\n",
       "      <td>2011.0</td>\n",
       "      <td>2548.0</td>\n",
       "      <td>1865.0</td>\n",
       "      <td>2363.0</td>\n",
       "      <td>8787.0</td>\n",
       "    </tr>\n",
       "    <tr>\n",
       "      <th>35</th>\n",
       "      <td>Black</td>\n",
       "      <td>1418.0</td>\n",
       "      <td>315.0</td>\n",
       "      <td>1258.0</td>\n",
       "      <td>1181.0</td>\n",
       "      <td>4172.0</td>\n",
       "    </tr>\n",
       "    <tr>\n",
       "      <th>36</th>\n",
       "      <td>Some Other Race</td>\n",
       "      <td>28.0</td>\n",
       "      <td>30.0</td>\n",
       "      <td>4.0</td>\n",
       "      <td>0.0</td>\n",
       "      <td>62.0</td>\n",
       "    </tr>\n",
       "  </tbody>\n",
       "</table>\n",
       "</div>"
      ],
      "text/plain": [
       "             Category  Census Tract 9, Hamilton County, Ohio  \\\n",
       "33  Total Population:                                 3457.0   \n",
       "34              White                                 2011.0   \n",
       "35              Black                                 1418.0   \n",
       "36    Some Other Race                                   28.0   \n",
       "\n",
       "    Census Tract 10, Hamilton County, Ohio  \\\n",
       "33                                  2893.0   \n",
       "34                                  2548.0   \n",
       "35                                   315.0   \n",
       "36                                    30.0   \n",
       "\n",
       "    Census Tract 16, Hamilton County, Ohio  \\\n",
       "33                                  3127.0   \n",
       "34                                  1865.0   \n",
       "35                                  1258.0   \n",
       "36                                     4.0   \n",
       "\n",
       "    Census Tract 17, Hamilton County, Ohio  TOTAL (All Selected Census Tracts)  \n",
       "33                                  3544.0                             13021.0  \n",
       "34                                  2363.0                              8787.0  \n",
       "35                                  1181.0                              4172.0  \n",
       "36                                     0.0                                62.0  "
      ]
     },
     "execution_count": 9,
     "metadata": {},
     "output_type": "execute_result"
    }
   ],
   "source": [
    "pdf1970"
   ]
  },
  {
   "cell_type": "markdown",
   "id": "604ef638-3fe7-4ba3-8925-ac8e35deb5fe",
   "metadata": {},
   "source": [
    "# Creating visualizations"
   ]
  },
  {
   "cell_type": "code",
   "execution_count": 10,
   "id": "891b1c82-9bfa-48d9-ad6d-c696dacf7c14",
   "metadata": {
    "tags": []
   },
   "outputs": [
    {
     "data": {
      "text/plain": [
       "<AxesSubplot:xlabel='Category'>"
      ]
     },
     "execution_count": 10,
     "metadata": {},
     "output_type": "execute_result"
    },
    {
     "data": {
      "image/png": "[encoded data removed]",
      "text/plain": [
       "<Figure size 720x720 with 1 Axes>"
      ]
     },
     "metadata": {
      "needs_background": "light"
     },
     "output_type": "display_data"
    }
   ],
   "source": [
    "# Total white and Black population of OTR \n",
    "pdf1970.iloc[1:4].plot.bar(x = 'Category', y = 'TOTAL (All Selected Census Tracts)', figsize=(10,10))"
   ]
  },
  {
   "cell_type": "code",
   "execution_count": 11,
   "id": "c510ff5e-f8b0-4c15-9db5-541796d791bc",
   "metadata": {},
   "outputs": [],
   "source": [
    "pdf1970.to_pickle('pdf1970.pkl')"
   ]
  },
  {
   "cell_type": "code",
   "execution_count": null,
   "id": "fb03386d-32d7-4dd0-b7a3-c8cdd8e0fcfe",
   "metadata": {},
   "outputs": [],
   "source": []
  }
 ],
 "metadata": {
  "kernelspec": {
   "display_name": "Python 3 (ipykernel)",
   "language": "python",
   "name": "python3"
  },
  "language_info": {
   "codemirror_mode": {
    "name": "ipython",
    "version": 3
   },
   "file_extension": ".py",
   "mimetype": "text/x-python",
   "name": "python",
   "nbconvert_exporter": "python",
   "pygments_lexer": "ipython3",
   "version": "3.8.13"
  }
 },
 "nbformat": 4,
 "nbformat_minor": 5
}
