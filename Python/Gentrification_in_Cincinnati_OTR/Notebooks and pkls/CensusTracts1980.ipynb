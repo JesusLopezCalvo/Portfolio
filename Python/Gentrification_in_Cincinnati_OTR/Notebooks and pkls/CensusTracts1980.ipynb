{
 "cells": [
  {
   "cell_type": "markdown",
   "id": "d433359e-e32f-41bd-bc9e-1d39f29f0fa4",
   "metadata": {},
   "source": [
    "# Importing needed libraries"
   ]
  },
  {
   "cell_type": "code",
   "execution_count": 1,
   "id": "687950f8-71de-472a-a09a-fcdbda054b31",
   "metadata": {},
   "outputs": [],
   "source": [
    "import pandas as pd\n",
    "import matplotlib.pyplot as plt\n",
    "import openpyxl\n",
    "import numpy as np"
   ]
  },
  {
   "cell_type": "markdown",
   "id": "98b71df3-f20b-4c26-99d1-0c75423aeace",
   "metadata": {
    "tags": []
   },
   "source": [
    "# Importing Data"
   ]
  },
  {
   "cell_type": "code",
   "execution_count": 2,
   "id": "69d99207-dbb5-4ce4-81b7-bf3f404fafc2",
   "metadata": {},
   "outputs": [],
   "source": [
    "#Importing data\n",
    "pdf1980 = pd.read_excel('./../Data sets/Census 1980.xlsx')"
   ]
  },
  {
   "cell_type": "code",
   "execution_count": 3,
   "id": "16f0b653-5717-4438-8b08-55e8a6a4e17f",
   "metadata": {
    "tags": []
   },
   "outputs": [
    {
     "data": {
      "text/html": [
       "<div>\n",
       "<style scoped>\n",
       "    .dataframe tbody tr th:only-of-type {\n",
       "        vertical-align: middle;\n",
       "    }\n",
       "\n",
       "    .dataframe tbody tr th {\n",
       "        vertical-align: top;\n",
       "    }\n",
       "\n",
       "    .dataframe thead th {\n",
       "        text-align: right;\n",
       "    }\n",
       "</style>\n",
       "<table border=\"1\" class=\"dataframe\">\n",
       "  <thead>\n",
       "    <tr style=\"text-align: right;\">\n",
       "      <th></th>\n",
       "      <th>Unnamed: 0</th>\n",
       "      <th>Social Explorer - Census 1980</th>\n",
       "      <th>Unnamed: 2</th>\n",
       "      <th>Unnamed: 3</th>\n",
       "      <th>Unnamed: 4</th>\n",
       "      <th>Unnamed: 5</th>\n",
       "      <th>Unnamed: 6</th>\n",
       "      <th>Unnamed: 7</th>\n",
       "      <th>Unnamed: 8</th>\n",
       "      <th>Unnamed: 9</th>\n",
       "      <th>Unnamed: 10</th>\n",
       "    </tr>\n",
       "  </thead>\n",
       "  <tbody>\n",
       "    <tr>\n",
       "      <th>0</th>\n",
       "      <td>Statistics</td>\n",
       "      <td>Census Tract 9, Hamilton County, Ohio</td>\n",
       "      <td>NaN</td>\n",
       "      <td>Census Tract 10, Hamilton County, Ohio</td>\n",
       "      <td>NaN</td>\n",
       "      <td>Census Tract 16, Hamilton County, Ohio</td>\n",
       "      <td>NaN</td>\n",
       "      <td>Census Tract 17, Hamilton County, Ohio</td>\n",
       "      <td>NaN</td>\n",
       "      <td>TOTAL (All Selected Census Tracts or Block Num...</td>\n",
       "      <td>NaN</td>\n",
       "    </tr>\n",
       "    <tr>\n",
       "      <th>1</th>\n",
       "      <td>NaN</td>\n",
       "      <td>NaN</td>\n",
       "      <td>NaN</td>\n",
       "      <td>NaN</td>\n",
       "      <td>NaN</td>\n",
       "      <td>NaN</td>\n",
       "      <td>NaN</td>\n",
       "      <td>NaN</td>\n",
       "      <td>NaN</td>\n",
       "      <td>NaN</td>\n",
       "      <td>NaN</td>\n",
       "    </tr>\n",
       "    <tr>\n",
       "      <th>2</th>\n",
       "      <td>SE:T1. Total Population</td>\n",
       "      <td>NaN</td>\n",
       "      <td>NaN</td>\n",
       "      <td>NaN</td>\n",
       "      <td>NaN</td>\n",
       "      <td>NaN</td>\n",
       "      <td>NaN</td>\n",
       "      <td>NaN</td>\n",
       "      <td>NaN</td>\n",
       "      <td>NaN</td>\n",
       "      <td>NaN</td>\n",
       "    </tr>\n",
       "    <tr>\n",
       "      <th>3</th>\n",
       "      <td>Total Population</td>\n",
       "      <td>2616</td>\n",
       "      <td>NaN</td>\n",
       "      <td>2322</td>\n",
       "      <td>NaN</td>\n",
       "      <td>2961</td>\n",
       "      <td>NaN</td>\n",
       "      <td>2307</td>\n",
       "      <td>NaN</td>\n",
       "      <td>10206</td>\n",
       "      <td>NaN</td>\n",
       "    </tr>\n",
       "    <tr>\n",
       "      <th>4</th>\n",
       "      <td>NaN</td>\n",
       "      <td>NaN</td>\n",
       "      <td>NaN</td>\n",
       "      <td>NaN</td>\n",
       "      <td>NaN</td>\n",
       "      <td>NaN</td>\n",
       "      <td>NaN</td>\n",
       "      <td>NaN</td>\n",
       "      <td>NaN</td>\n",
       "      <td>NaN</td>\n",
       "      <td>NaN</td>\n",
       "    </tr>\n",
       "  </tbody>\n",
       "</table>\n",
       "</div>"
      ],
      "text/plain": [
       "                Unnamed: 0          Social Explorer - Census 1980  Unnamed: 2  \\\n",
       "0               Statistics  Census Tract 9, Hamilton County, Ohio         NaN   \n",
       "1                      NaN                                    NaN         NaN   \n",
       "2  SE:T1. Total Population                                    NaN         NaN   \n",
       "3         Total Population                                   2616         NaN   \n",
       "4                      NaN                                    NaN         NaN   \n",
       "\n",
       "                               Unnamed: 3  Unnamed: 4  \\\n",
       "0  Census Tract 10, Hamilton County, Ohio         NaN   \n",
       "1                                     NaN         NaN   \n",
       "2                                     NaN         NaN   \n",
       "3                                    2322         NaN   \n",
       "4                                     NaN         NaN   \n",
       "\n",
       "                               Unnamed: 5  Unnamed: 6  \\\n",
       "0  Census Tract 16, Hamilton County, Ohio         NaN   \n",
       "1                                     NaN         NaN   \n",
       "2                                     NaN         NaN   \n",
       "3                                    2961         NaN   \n",
       "4                                     NaN         NaN   \n",
       "\n",
       "                               Unnamed: 7  Unnamed: 8  \\\n",
       "0  Census Tract 17, Hamilton County, Ohio         NaN   \n",
       "1                                     NaN         NaN   \n",
       "2                                     NaN         NaN   \n",
       "3                                    2307         NaN   \n",
       "4                                     NaN         NaN   \n",
       "\n",
       "                                          Unnamed: 9  Unnamed: 10  \n",
       "0  TOTAL (All Selected Census Tracts or Block Num...          NaN  \n",
       "1                                                NaN          NaN  \n",
       "2                                                NaN          NaN  \n",
       "3                                              10206          NaN  \n",
       "4                                                NaN          NaN  "
      ]
     },
     "execution_count": 3,
     "metadata": {},
     "output_type": "execute_result"
    }
   ],
   "source": [
    "#Info about rows and columns\n",
    "pdf1980.shape\n",
    "\n",
    "#Changing the number of rows displayed\n",
    "pd.set_option('display.max_rows', None)\n",
    "\n",
    "#displaying first 5 rows\n",
    "pdf1980.head()\n"
   ]
  },
  {
   "cell_type": "markdown",
   "id": "1fca53ab-041e-4149-8a29-35b1950c7327",
   "metadata": {},
   "source": [
    "# Cleaning data"
   ]
  },
  {
   "cell_type": "code",
   "execution_count": 4,
   "id": "3df7f3a7-0518-48f2-ac7a-587dc394fc71",
   "metadata": {},
   "outputs": [
    {
     "data": {
      "text/plain": [
       "['Unnamed: 0',\n",
       " 'Social Explorer - Census 1980',\n",
       " 'Unnamed: 2',\n",
       " 'Unnamed: 3',\n",
       " 'Unnamed: 4',\n",
       " 'Unnamed: 5',\n",
       " 'Unnamed: 6',\n",
       " 'Unnamed: 7',\n",
       " 'Unnamed: 8',\n",
       " 'Unnamed: 9',\n",
       " 'Unnamed: 10']"
      ]
     },
     "execution_count": 4,
     "metadata": {},
     "output_type": "execute_result"
    }
   ],
   "source": [
    "#Removing rows with all NaN values \n",
    "pdf1980 = pdf1980.dropna(subset=[\"Unnamed: 0\"])\n",
    "pdf1980 = pdf1980.dropna(subset=[\"Social Explorer - Census 1980\"])\n",
    "\n",
    "# Replacing NaN by 0s\n",
    "pdf1980 = pdf1980.fillna(0)\n",
    "\n",
    "#Dropping first row\n",
    "pdf1980 = pdf1980.drop([0])\n",
    "\n",
    "#Showing a list of columns names\n",
    "list(pdf1980)"
   ]
  },
  {
   "cell_type": "code",
   "execution_count": 5,
   "id": "e9b97866-5067-46bc-a963-4ccdc658a0b7",
   "metadata": {},
   "outputs": [],
   "source": [
    "#Renaming columns\n",
    "pdf1980.columns = ['Category',\n",
    "                   'Census Tract 9, Hamilton County, Ohio',\n",
    "                   'Census Tract 9, Percentage',\n",
    "                   'Census Tract 10, Hamilton County, Ohio',\n",
    "                   'Census Tract 10, Percentage',\n",
    "                   'Census Tract 16, Hamilton County, Ohio',\n",
    "                   'Census Tract 16, Percentage',\n",
    "                   'Census Tract 17, Hamilton County, Ohio',\n",
    "                   'Census Tract 17, Percentage',\n",
    "                   'TOTAL (All Selected Census Tracts)',\n",
    "                   'TOTAL Percentage']"
   ]
  },
  {
   "cell_type": "code",
   "execution_count": 6,
   "id": "daab5a9a-d536-40c0-8443-766101b1de58",
   "metadata": {},
   "outputs": [],
   "source": [
    "#Removing columns I dont want\n",
    "for col in pdf1980.columns:\n",
    "    if 'Percentage' in col:\n",
    "        del pdf1980[col]\n",
    "             "
   ]
  },
  {
   "cell_type": "code",
   "execution_count": 7,
   "id": "0227e23b-5d45-4d08-a7a3-073f6b87beb0",
   "metadata": {},
   "outputs": [],
   "source": [
    "#Obtaining index values of all the rows\n",
    "pdf1980.index.values\n",
    "\n",
    "\n",
    "#Removing all the rows I don't want\n",
    "pdf1980 = pdf1980.drop([3,   6,   7,  10,  13,  14,  15,  18,  19,  20,  21,  22,  23,\n",
    "        24,  25,  26,  27,  28,  29,  30,  33,  34,  35, 46,  47,  48,  \n",
    "        49,  50,  51,  52,  53,  54,  55,\n",
    "        56,  59,  60,  61,  62,  63,  64,  65,  66,  67,  68,  69,  70,\n",
    "        73,  74,  75,  76,  77,  78,  79,  80,  81,  82,  83,  84,  85,\n",
    "        88,  89,  90,  91,  92,  93,  94,  95,  96,  97,  98,  99, 102,\n",
    "       103, 104, 105, 106, 107, 110, 111, 112, 113, 114, 115, 116, 117,\n",
    "       118, 119, 120, 123, 124, 125, 126, 127, 128, 129, 130, 133, 134,\n",
    "       135, 136, 137, 140, 141, 142, 145, 148, 151, 154, 157, 160, 163,\n",
    "       166, 167, 168, 171, 172, 173, 176, 177, 178, 179, 182, 183, 184,\n",
    "       185, 186, 187, 188, 189, 192, 195, 196, 197, 198, 199, 200, 201,\n",
    "       202, 203, 206, 209, 212, 215, 216, 217, 218, 219, 220, 223, 224,\n",
    "       227, 228, 229, 230, 231, 232, 235, 236, 237, 238, 239, 240, 241,\n",
    "       242, 243, 244, 245, 246, 247, 250, 251, 252, 253, 254, 257, 258,\n",
    "       259, 262, 263, 264, 267, 268, 269, 270, 271, 272, 275, 276, 277,\n",
    "       278, 279, 280])"
   ]
  },
  {
   "cell_type": "code",
   "execution_count": 8,
   "id": "e10d23e2-a879-488e-b83c-02eb6f19bfe6",
   "metadata": {},
   "outputs": [
    {
     "data": {
      "text/plain": [
       "Category                                   object\n",
       "Census Tract 9, Hamilton County, Ohio     float64\n",
       "Census Tract 10, Hamilton County, Ohio    float64\n",
       "Census Tract 16, Hamilton County, Ohio    float64\n",
       "Census Tract 17, Hamilton County, Ohio    float64\n",
       "TOTAL (All Selected Census Tracts)        float64\n",
       "dtype: object"
      ]
     },
     "execution_count": 8,
     "metadata": {},
     "output_type": "execute_result"
    }
   ],
   "source": [
    "#Changing the data to floats\n",
    "pdf1980 = pdf1980.astype({'Census Tract 9, Hamilton County, Ohio': np.float64, 'Census Tract 10, Hamilton County, Ohio':np.float64,\n",
    "                          'Census Tract 16, Hamilton County, Ohio':np.float64,'Census Tract 17, Hamilton County, Ohio':np.float64,\n",
    "                          'TOTAL (All Selected Census Tracts)':np.float64})\n",
    "\n",
    "#Checking if data are floats now\n",
    "pdf1980.dtypes"
   ]
  },
  {
   "cell_type": "code",
   "execution_count": 9,
   "id": "50aacaf9-f638-412b-9fa2-4cf81687f673",
   "metadata": {},
   "outputs": [
    {
     "data": {
      "text/html": [
       "<div>\n",
       "<style scoped>\n",
       "    .dataframe tbody tr th:only-of-type {\n",
       "        vertical-align: middle;\n",
       "    }\n",
       "\n",
       "    .dataframe tbody tr th {\n",
       "        vertical-align: top;\n",
       "    }\n",
       "\n",
       "    .dataframe thead th {\n",
       "        text-align: right;\n",
       "    }\n",
       "</style>\n",
       "<table border=\"1\" class=\"dataframe\">\n",
       "  <thead>\n",
       "    <tr style=\"text-align: right;\">\n",
       "      <th></th>\n",
       "      <th>Category</th>\n",
       "      <th>Census Tract 9, Hamilton County, Ohio</th>\n",
       "      <th>Census Tract 10, Hamilton County, Ohio</th>\n",
       "      <th>Census Tract 16, Hamilton County, Ohio</th>\n",
       "      <th>Census Tract 17, Hamilton County, Ohio</th>\n",
       "      <th>TOTAL (All Selected Census Tracts)</th>\n",
       "    </tr>\n",
       "  </thead>\n",
       "  <tbody>\n",
       "    <tr>\n",
       "      <th>38</th>\n",
       "      <td>Total Population:</td>\n",
       "      <td>2616.0</td>\n",
       "      <td>2322.0</td>\n",
       "      <td>2961.0</td>\n",
       "      <td>2307.0</td>\n",
       "      <td>10206.0</td>\n",
       "    </tr>\n",
       "    <tr>\n",
       "      <th>39</th>\n",
       "      <td>White</td>\n",
       "      <td>811.0</td>\n",
       "      <td>1584.0</td>\n",
       "      <td>962.0</td>\n",
       "      <td>857.0</td>\n",
       "      <td>4214.0</td>\n",
       "    </tr>\n",
       "    <tr>\n",
       "      <th>40</th>\n",
       "      <td>Black</td>\n",
       "      <td>1790.0</td>\n",
       "      <td>729.0</td>\n",
       "      <td>1983.0</td>\n",
       "      <td>1434.0</td>\n",
       "      <td>5936.0</td>\n",
       "    </tr>\n",
       "    <tr>\n",
       "      <th>41</th>\n",
       "      <td>American Indian, Eskimo, and Aleut</td>\n",
       "      <td>2.0</td>\n",
       "      <td>3.0</td>\n",
       "      <td>1.0</td>\n",
       "      <td>4.0</td>\n",
       "      <td>10.0</td>\n",
       "    </tr>\n",
       "    <tr>\n",
       "      <th>42</th>\n",
       "      <td>Asian and Pacific Islander</td>\n",
       "      <td>5.0</td>\n",
       "      <td>2.0</td>\n",
       "      <td>6.0</td>\n",
       "      <td>5.0</td>\n",
       "      <td>18.0</td>\n",
       "    </tr>\n",
       "    <tr>\n",
       "      <th>43</th>\n",
       "      <td>Other</td>\n",
       "      <td>8.0</td>\n",
       "      <td>4.0</td>\n",
       "      <td>9.0</td>\n",
       "      <td>7.0</td>\n",
       "      <td>28.0</td>\n",
       "    </tr>\n",
       "  </tbody>\n",
       "</table>\n",
       "</div>"
      ],
      "text/plain": [
       "                              Category  Census Tract 9, Hamilton County, Ohio  \\\n",
       "38                   Total Population:                                 2616.0   \n",
       "39                               White                                  811.0   \n",
       "40                               Black                                 1790.0   \n",
       "41  American Indian, Eskimo, and Aleut                                    2.0   \n",
       "42          Asian and Pacific Islander                                    5.0   \n",
       "43                               Other                                    8.0   \n",
       "\n",
       "    Census Tract 10, Hamilton County, Ohio  \\\n",
       "38                                  2322.0   \n",
       "39                                  1584.0   \n",
       "40                                   729.0   \n",
       "41                                     3.0   \n",
       "42                                     2.0   \n",
       "43                                     4.0   \n",
       "\n",
       "    Census Tract 16, Hamilton County, Ohio  \\\n",
       "38                                  2961.0   \n",
       "39                                   962.0   \n",
       "40                                  1983.0   \n",
       "41                                     1.0   \n",
       "42                                     6.0   \n",
       "43                                     9.0   \n",
       "\n",
       "    Census Tract 17, Hamilton County, Ohio  TOTAL (All Selected Census Tracts)  \n",
       "38                                  2307.0                             10206.0  \n",
       "39                                   857.0                              4214.0  \n",
       "40                                  1434.0                              5936.0  \n",
       "41                                     4.0                                10.0  \n",
       "42                                     5.0                                18.0  \n",
       "43                                     7.0                                28.0  "
      ]
     },
     "execution_count": 9,
     "metadata": {},
     "output_type": "execute_result"
    }
   ],
   "source": [
    "pdf1980"
   ]
  },
  {
   "cell_type": "markdown",
   "id": "4abf18be-d193-4bb6-bc3d-17eb0bdd13fb",
   "metadata": {},
   "source": [
    "# Creating visualizations"
   ]
  },
  {
   "cell_type": "code",
   "execution_count": 10,
   "id": "7aad6f34-9812-4581-bd1f-8f3fdf1727d7",
   "metadata": {
    "tags": []
   },
   "outputs": [
    {
     "data": {
      "text/plain": [
       "<AxesSubplot:xlabel='Category'>"
      ]
     },
     "execution_count": 10,
     "metadata": {},
     "output_type": "execute_result"
    },
    {
     "data": {
      "image/png": "[encoded data removed]",
      "text/plain": [
       "<Figure size 720x720 with 1 Axes>"
      ]
     },
     "metadata": {
      "needs_background": "light"
     },
     "output_type": "display_data"
    }
   ],
   "source": [
    "# Total white and Black population of OTR \n",
    "pdf1980.iloc[1:6].plot.bar(x = 'Category', y = 'TOTAL (All Selected Census Tracts)', figsize=(10,10))"
   ]
  },
  {
   "cell_type": "code",
   "execution_count": 11,
   "id": "326f3e63-0748-462c-83d2-71b3e66b2989",
   "metadata": {},
   "outputs": [],
   "source": [
    "pdf1980.to_pickle('pdf1980.pkl')"
   ]
  },
  {
   "cell_type": "code",
   "execution_count": null,
   "id": "c5ae8ddc-74b3-4d3d-82e0-a1c7415cb812",
   "metadata": {},
   "outputs": [],
   "source": []
  },
  {
   "cell_type": "code",
   "execution_count": null,
   "id": "eb0cdf6e-b3aa-496f-ba17-9ff17de0c2a9",
   "metadata": {},
   "outputs": [],
   "source": []
  }
 ],
 "metadata": {
  "kernelspec": {
   "display_name": "Python 3 (ipykernel)",
   "language": "python",
   "name": "python3"
  },
  "language_info": {
   "codemirror_mode": {
    "name": "ipython",
    "version": 3
   },
   "file_extension": ".py",
   "mimetype": "text/x-python",
   "name": "python",
   "nbconvert_exporter": "python",
   "pygments_lexer": "ipython3",
   "version": "3.8.13"
  }
 },
 "nbformat": 4,
 "nbformat_minor": 5
}
