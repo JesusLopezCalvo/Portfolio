{
 "cells": [
  {
   "cell_type": "markdown",
   "id": "ad367810-f96d-45c5-a173-fee987401d93",
   "metadata": {},
   "source": [
    "# Importing needed libraries"
   ]
  },
  {
   "cell_type": "code",
   "execution_count": 1,
   "id": "5529c43b-4b4a-4a8b-9797-76825873ca18",
   "metadata": {},
   "outputs": [],
   "source": [
    "import pandas as pd\n",
    "import matplotlib.pyplot as plt\n",
    "import openpyxl\n",
    "import numpy as np"
   ]
  },
  {
   "cell_type": "markdown",
   "id": "afa5b61f-a1d4-42dc-89c7-57ff1c49d911",
   "metadata": {
    "tags": []
   },
   "source": [
    "# Importing Data"
   ]
  },
  {
   "cell_type": "code",
   "execution_count": 2,
   "id": "57e90840-1d89-4b49-b311-37a809ca00a8",
   "metadata": {},
   "outputs": [],
   "source": [
    "#Importing data\n",
    "pdf1960 = pd.read_excel('./../Data sets/Census 1960.xlsx')"
   ]
  },
  {
   "cell_type": "code",
   "execution_count": 3,
   "id": "840d40b4-eb98-48df-bfcd-f9e9c711e09e",
   "metadata": {
    "tags": []
   },
   "outputs": [
    {
     "data": {
      "text/html": [
       "<div>\n",
       "<style scoped>\n",
       "    .dataframe tbody tr th:only-of-type {\n",
       "        vertical-align: middle;\n",
       "    }\n",
       "\n",
       "    .dataframe tbody tr th {\n",
       "        vertical-align: top;\n",
       "    }\n",
       "\n",
       "    .dataframe thead th {\n",
       "        text-align: right;\n",
       "    }\n",
       "</style>\n",
       "<table border=\"1\" class=\"dataframe\">\n",
       "  <thead>\n",
       "    <tr style=\"text-align: right;\">\n",
       "      <th></th>\n",
       "      <th>Unnamed: 0</th>\n",
       "      <th>Social Explorer - Census 1960 Tracts Only Set</th>\n",
       "      <th>Unnamed: 2</th>\n",
       "      <th>Unnamed: 3</th>\n",
       "      <th>Unnamed: 4</th>\n",
       "      <th>Unnamed: 5</th>\n",
       "      <th>Unnamed: 6</th>\n",
       "      <th>Unnamed: 7</th>\n",
       "      <th>Unnamed: 8</th>\n",
       "      <th>Unnamed: 9</th>\n",
       "      <th>Unnamed: 10</th>\n",
       "    </tr>\n",
       "  </thead>\n",
       "  <tbody>\n",
       "    <tr>\n",
       "      <th>0</th>\n",
       "      <td>Statistics</td>\n",
       "      <td>Census Tract 00090000, Hamilton County, Ohio</td>\n",
       "      <td>NaN</td>\n",
       "      <td>Census Tract 00100000, Hamilton County, Ohio</td>\n",
       "      <td>NaN</td>\n",
       "      <td>Census Tract 00160000, Hamilton County, Ohio</td>\n",
       "      <td>NaN</td>\n",
       "      <td>Census Tract 00170000, Hamilton County, Ohio</td>\n",
       "      <td>NaN</td>\n",
       "      <td>TOTAL (All Selected Census Tracts)</td>\n",
       "      <td>NaN</td>\n",
       "    </tr>\n",
       "    <tr>\n",
       "      <th>1</th>\n",
       "      <td>NaN</td>\n",
       "      <td>NaN</td>\n",
       "      <td>NaN</td>\n",
       "      <td>NaN</td>\n",
       "      <td>NaN</td>\n",
       "      <td>NaN</td>\n",
       "      <td>NaN</td>\n",
       "      <td>NaN</td>\n",
       "      <td>NaN</td>\n",
       "      <td>NaN</td>\n",
       "      <td>NaN</td>\n",
       "    </tr>\n",
       "    <tr>\n",
       "      <th>2</th>\n",
       "      <td>SE:T1. Total Population</td>\n",
       "      <td>NaN</td>\n",
       "      <td>NaN</td>\n",
       "      <td>NaN</td>\n",
       "      <td>NaN</td>\n",
       "      <td>NaN</td>\n",
       "      <td>NaN</td>\n",
       "      <td>NaN</td>\n",
       "      <td>NaN</td>\n",
       "      <td>NaN</td>\n",
       "      <td>NaN</td>\n",
       "    </tr>\n",
       "    <tr>\n",
       "      <th>3</th>\n",
       "      <td>Total Population</td>\n",
       "      <td>5918</td>\n",
       "      <td>NaN</td>\n",
       "      <td>4946</td>\n",
       "      <td>NaN</td>\n",
       "      <td>5956</td>\n",
       "      <td>NaN</td>\n",
       "      <td>5917</td>\n",
       "      <td>NaN</td>\n",
       "      <td>22737</td>\n",
       "      <td>NaN</td>\n",
       "    </tr>\n",
       "    <tr>\n",
       "      <th>4</th>\n",
       "      <td>NaN</td>\n",
       "      <td>NaN</td>\n",
       "      <td>NaN</td>\n",
       "      <td>NaN</td>\n",
       "      <td>NaN</td>\n",
       "      <td>NaN</td>\n",
       "      <td>NaN</td>\n",
       "      <td>NaN</td>\n",
       "      <td>NaN</td>\n",
       "      <td>NaN</td>\n",
       "      <td>NaN</td>\n",
       "    </tr>\n",
       "  </tbody>\n",
       "</table>\n",
       "</div>"
      ],
      "text/plain": [
       "                Unnamed: 0 Social Explorer - Census 1960 Tracts Only Set  \\\n",
       "0               Statistics  Census Tract 00090000, Hamilton County, Ohio   \n",
       "1                      NaN                                           NaN   \n",
       "2  SE:T1. Total Population                                           NaN   \n",
       "3         Total Population                                          5918   \n",
       "4                      NaN                                           NaN   \n",
       "\n",
       "   Unnamed: 2                                    Unnamed: 3  Unnamed: 4  \\\n",
       "0         NaN  Census Tract 00100000, Hamilton County, Ohio         NaN   \n",
       "1         NaN                                           NaN         NaN   \n",
       "2         NaN                                           NaN         NaN   \n",
       "3         NaN                                          4946         NaN   \n",
       "4         NaN                                           NaN         NaN   \n",
       "\n",
       "                                     Unnamed: 5  Unnamed: 6  \\\n",
       "0  Census Tract 00160000, Hamilton County, Ohio         NaN   \n",
       "1                                           NaN         NaN   \n",
       "2                                           NaN         NaN   \n",
       "3                                          5956         NaN   \n",
       "4                                           NaN         NaN   \n",
       "\n",
       "                                     Unnamed: 7  Unnamed: 8  \\\n",
       "0  Census Tract 00170000, Hamilton County, Ohio         NaN   \n",
       "1                                           NaN         NaN   \n",
       "2                                           NaN         NaN   \n",
       "3                                          5917         NaN   \n",
       "4                                           NaN         NaN   \n",
       "\n",
       "                           Unnamed: 9  Unnamed: 10  \n",
       "0  TOTAL (All Selected Census Tracts)          NaN  \n",
       "1                                 NaN          NaN  \n",
       "2                                 NaN          NaN  \n",
       "3                               22737          NaN  \n",
       "4                                 NaN          NaN  "
      ]
     },
     "execution_count": 3,
     "metadata": {},
     "output_type": "execute_result"
    }
   ],
   "source": [
    "#Info about rows and columns\n",
    "pdf1960.shape\n",
    "\n",
    "#Changing the number of rows displayed\n",
    "pd.set_option('display.max_rows', None)\n",
    "\n",
    "#displaying first 5 rows\n",
    "pdf1960.head()\n"
   ]
  },
  {
   "cell_type": "markdown",
   "id": "447bcb7e-ec4e-4205-b8ea-beedaf164fe8",
   "metadata": {},
   "source": [
    "# Cleaning data"
   ]
  },
  {
   "cell_type": "code",
   "execution_count": 4,
   "id": "0b10654a-7259-410e-93fe-628f08910495",
   "metadata": {},
   "outputs": [
    {
     "data": {
      "text/plain": [
       "['Unnamed: 0',\n",
       " 'Social Explorer - Census 1960 Tracts Only Set',\n",
       " 'Unnamed: 2',\n",
       " 'Unnamed: 3',\n",
       " 'Unnamed: 4',\n",
       " 'Unnamed: 5',\n",
       " 'Unnamed: 6',\n",
       " 'Unnamed: 7',\n",
       " 'Unnamed: 8',\n",
       " 'Unnamed: 9',\n",
       " 'Unnamed: 10']"
      ]
     },
     "execution_count": 4,
     "metadata": {},
     "output_type": "execute_result"
    }
   ],
   "source": [
    "#Removing rows with all NaN values \n",
    "pdf1960 = pdf1960.dropna(subset=[\"Unnamed: 0\"])\n",
    "pdf1960 = pdf1960.dropna(subset=[\"Social Explorer - Census 1960 Tracts Only Set\"])\n",
    "\n",
    "# Replacing NaN by 0s\n",
    "pdf1960 = pdf1960.fillna(0)\n",
    "\n",
    "#Dropping first row\n",
    "pdf1960 = pdf1960.drop([0])\n",
    "\n",
    "#Showing a list of columns names\n",
    "list(pdf1960)"
   ]
  },
  {
   "cell_type": "code",
   "execution_count": 5,
   "id": "adba2ef4-4e0c-41be-97d8-f4c147622e6e",
   "metadata": {},
   "outputs": [],
   "source": [
    "#Renaming columns\n",
    "pdf1960.columns = ['Category',\n",
    "                   'Census Tract 9, Hamilton County, Ohio',\n",
    "                   'Census Tract 9, Percentage',\n",
    "                   'Census Tract 10, Hamilton County, Ohio',\n",
    "                   'Census Tract 10, Percentage',\n",
    "                   'Census Tract 16, Hamilton County, Ohio',\n",
    "                   'Census Tract 16, Percentage',\n",
    "                   'Census Tract 17, Hamilton County, Ohio',\n",
    "                   'Census Tract 17, Percentage',\n",
    "                   'TOTAL (All Selected Census Tracts)',\n",
    "                   'TOTAL Percentage']"
   ]
  },
  {
   "cell_type": "code",
   "execution_count": 6,
   "id": "0d332149-ba2d-472f-96ec-3eed1b1e0a14",
   "metadata": {},
   "outputs": [],
   "source": [
    "#Removing columns I dont want\n",
    "for col in pdf1960.columns:\n",
    "    if 'Percentage' in col:\n",
    "        del pdf1960[col]\n",
    "             "
   ]
  },
  {
   "cell_type": "code",
   "execution_count": 7,
   "id": "d090e975-4fb0-49c1-a0d9-bff8c49e04f6",
   "metadata": {},
   "outputs": [
    {
     "data": {
      "text/plain": [
       "array([  3,   6,   9,  10,  11,  14,  15,  16,  17,  20,  21,  22,  23,\n",
       "        24,  25,  26,  27,  28,  29,  30,  31,  32,  33,  34,  35,  36,\n",
       "        39,  40,  41,  42,  43,  44,  45,  46,  47,  50,  51,  52,  55,\n",
       "        56,  57,  58,  59,  60,  63,  64,  65,  66,  67,  68,  69,  70,\n",
       "        71,  72,  73,  74,  77,  78,  79,  80,  81,  82,  83,  84,  85,\n",
       "        86,  87,  90,  91,  92,  93,  94,  95,  96,  99, 100, 101, 104,\n",
       "       105, 106, 107, 108, 111, 112, 113, 114, 115, 116, 117, 118, 119,\n",
       "       120, 121, 122, 123, 126, 127, 128, 129, 130, 131, 132, 133, 134,\n",
       "       135, 136, 137, 140, 141, 142, 145, 146, 147, 148, 149, 150, 153,\n",
       "       154, 155, 156, 157, 158, 159, 160, 161, 162, 163, 164, 165, 166,\n",
       "       169, 172, 173, 174, 175, 176, 177, 180, 181, 182, 183, 184, 185,\n",
       "       186, 187, 188], dtype=int64)"
      ]
     },
     "execution_count": 7,
     "metadata": {},
     "output_type": "execute_result"
    }
   ],
   "source": [
    "#Obtaining index values of all the rows\n",
    "pdf1960.index.values"
   ]
  },
  {
   "cell_type": "code",
   "execution_count": 8,
   "id": "d89dd634-c696-4388-928f-b8803362824e",
   "metadata": {},
   "outputs": [],
   "source": [
    "#Obtaining index values of all the rows\n",
    "pdf1960.index.values\n",
    "\n",
    "\n",
    "#Removing all the rows I don't want\n",
    "pdf1960 = pdf1960.drop([3,   6,   9,  10,  11,  20,  21,  22,  23,\n",
    "        24,  25,  26,  27,  28,  29,  30,  31,  32,  33,  34,  35,  36,\n",
    "        39,  40,  41,  42,  43,  44,  45,  46,  47,  50,  51,  52,  55,\n",
    "        56,  57,  58,  59,  60,  63,  64,  65,  66,  67,  68,  69,  70,\n",
    "        71,  72,  73,  74,  77,  78,  79,  80,  81,  82,  83,  84,  85,\n",
    "        86,  87,  90,  91,  92,  93,  94,  95,  96,  99, 100, 101, 104,\n",
    "       105, 106, 107, 108, 111, 112, 113, 114, 115, 116, 117, 118, 119,\n",
    "       120, 121, 122, 123, 126, 127, 128, 129, 130, 131, 132, 133, 134,\n",
    "       135, 136, 137, 140, 141, 142, 145, 146, 147, 148, 149, 150, 153,\n",
    "       154, 155, 156, 157, 158, 159, 160, 161, 162, 163, 164, 165, 166,\n",
    "       169, 172, 173, 174, 175, 176, 177, 180, 181, 182, 183, 184, 185,\n",
    "       186, 187, 188])"
   ]
  },
  {
   "cell_type": "code",
   "execution_count": 9,
   "id": "e4d5bf9c-f696-4dce-ae49-f88d9c09be7e",
   "metadata": {},
   "outputs": [
    {
     "data": {
      "text/plain": [
       "Category                                   object\n",
       "Census Tract 9, Hamilton County, Ohio     float64\n",
       "Census Tract 10, Hamilton County, Ohio    float64\n",
       "Census Tract 16, Hamilton County, Ohio    float64\n",
       "Census Tract 17, Hamilton County, Ohio    float64\n",
       "TOTAL (All Selected Census Tracts)        float64\n",
       "dtype: object"
      ]
     },
     "execution_count": 9,
     "metadata": {},
     "output_type": "execute_result"
    }
   ],
   "source": [
    "#Changing the data to floats\n",
    "pdf1960 = pdf1960.astype({'Census Tract 9, Hamilton County, Ohio': np.float64, 'Census Tract 10, Hamilton County, Ohio':np.float64,\n",
    "                          'Census Tract 16, Hamilton County, Ohio':np.float64,'Census Tract 17, Hamilton County, Ohio':np.float64,\n",
    "                          'TOTAL (All Selected Census Tracts)':np.float64})\n",
    "\n",
    "#Checking if data are floats now\n",
    "pdf1960.dtypes"
   ]
  },
  {
   "cell_type": "code",
   "execution_count": 10,
   "id": "097b30ad-239a-4f8b-8f31-fe6ef57ed43f",
   "metadata": {},
   "outputs": [
    {
     "data": {
      "text/html": [
       "<div>\n",
       "<style scoped>\n",
       "    .dataframe tbody tr th:only-of-type {\n",
       "        vertical-align: middle;\n",
       "    }\n",
       "\n",
       "    .dataframe tbody tr th {\n",
       "        vertical-align: top;\n",
       "    }\n",
       "\n",
       "    .dataframe thead th {\n",
       "        text-align: right;\n",
       "    }\n",
       "</style>\n",
       "<table border=\"1\" class=\"dataframe\">\n",
       "  <thead>\n",
       "    <tr style=\"text-align: right;\">\n",
       "      <th></th>\n",
       "      <th>Category</th>\n",
       "      <th>Census Tract 9, Hamilton County, Ohio</th>\n",
       "      <th>Census Tract 10, Hamilton County, Ohio</th>\n",
       "      <th>Census Tract 16, Hamilton County, Ohio</th>\n",
       "      <th>Census Tract 17, Hamilton County, Ohio</th>\n",
       "      <th>TOTAL (All Selected Census Tracts)</th>\n",
       "    </tr>\n",
       "  </thead>\n",
       "  <tbody>\n",
       "    <tr>\n",
       "      <th>14</th>\n",
       "      <td>Total Population:</td>\n",
       "      <td>5918.0</td>\n",
       "      <td>4946.0</td>\n",
       "      <td>5956.0</td>\n",
       "      <td>5917.0</td>\n",
       "      <td>22737.0</td>\n",
       "    </tr>\n",
       "    <tr>\n",
       "      <th>15</th>\n",
       "      <td>White</td>\n",
       "      <td>5049.0</td>\n",
       "      <td>4891.0</td>\n",
       "      <td>5455.0</td>\n",
       "      <td>5604.0</td>\n",
       "      <td>20999.0</td>\n",
       "    </tr>\n",
       "    <tr>\n",
       "      <th>16</th>\n",
       "      <td>Black</td>\n",
       "      <td>842.0</td>\n",
       "      <td>37.0</td>\n",
       "      <td>501.0</td>\n",
       "      <td>309.0</td>\n",
       "      <td>1689.0</td>\n",
       "    </tr>\n",
       "    <tr>\n",
       "      <th>17</th>\n",
       "      <td>Other Race</td>\n",
       "      <td>27.0</td>\n",
       "      <td>18.0</td>\n",
       "      <td>0.0</td>\n",
       "      <td>4.0</td>\n",
       "      <td>49.0</td>\n",
       "    </tr>\n",
       "  </tbody>\n",
       "</table>\n",
       "</div>"
      ],
      "text/plain": [
       "             Category  Census Tract 9, Hamilton County, Ohio  \\\n",
       "14  Total Population:                                 5918.0   \n",
       "15              White                                 5049.0   \n",
       "16              Black                                  842.0   \n",
       "17         Other Race                                   27.0   \n",
       "\n",
       "    Census Tract 10, Hamilton County, Ohio  \\\n",
       "14                                  4946.0   \n",
       "15                                  4891.0   \n",
       "16                                    37.0   \n",
       "17                                    18.0   \n",
       "\n",
       "    Census Tract 16, Hamilton County, Ohio  \\\n",
       "14                                  5956.0   \n",
       "15                                  5455.0   \n",
       "16                                   501.0   \n",
       "17                                     0.0   \n",
       "\n",
       "    Census Tract 17, Hamilton County, Ohio  TOTAL (All Selected Census Tracts)  \n",
       "14                                  5917.0                             22737.0  \n",
       "15                                  5604.0                             20999.0  \n",
       "16                                   309.0                              1689.0  \n",
       "17                                     4.0                                49.0  "
      ]
     },
     "execution_count": 10,
     "metadata": {},
     "output_type": "execute_result"
    }
   ],
   "source": [
    "pdf1960"
   ]
  },
  {
   "cell_type": "markdown",
   "id": "c1661891-9aa2-4ecd-b301-41a7aeae2f01",
   "metadata": {},
   "source": [
    "# Creating visualizations"
   ]
  },
  {
   "cell_type": "code",
   "execution_count": 11,
   "id": "0001aa23-0ac7-4d27-a45a-55e484d32c24",
   "metadata": {
    "tags": []
   },
   "outputs": [
    {
     "data": {
      "text/plain": [
       "<AxesSubplot:xlabel='Category'>"
      ]
     },
     "execution_count": 11,
     "metadata": {},
     "output_type": "execute_result"
    },
    {
     "data": {
      "image/png": "[encoded data removed]",
      "text/plain": [
       "<Figure size 720x720 with 1 Axes>"
      ]
     },
     "metadata": {
      "needs_background": "light"
     },
     "output_type": "display_data"
    }
   ],
   "source": [
    "# Total white and Black population of OTR \n",
    "pdf1960.iloc[1:4].plot.bar(x = 'Category', y = 'TOTAL (All Selected Census Tracts)', figsize=(10,10))"
   ]
  },
  {
   "cell_type": "code",
   "execution_count": 12,
   "id": "93225595-0968-467f-ac8e-1c290dc8c3ca",
   "metadata": {},
   "outputs": [],
   "source": [
    "pdf1960.to_pickle('pdf1960.pkl')"
   ]
  },
  {
   "cell_type": "code",
   "execution_count": null,
   "id": "c40e34ec-a14c-4007-bff9-6f1cd808026b",
   "metadata": {},
   "outputs": [],
   "source": []
  }
 ],
 "metadata": {
  "kernelspec": {
   "display_name": "Python 3 (ipykernel)",
   "language": "python",
   "name": "python3"
  },
  "language_info": {
   "codemirror_mode": {
    "name": "ipython",
    "version": 3
   },
   "file_extension": ".py",
   "mimetype": "text/x-python",
   "name": "python",
   "nbconvert_exporter": "python",
   "pygments_lexer": "ipython3",
   "version": "3.8.13"
  }
 },
 "nbformat": 4,
 "nbformat_minor": 5
}
