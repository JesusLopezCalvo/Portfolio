{
 "cells": [
  {
   "cell_type": "markdown",
   "id": "d1692424-0c36-4a57-a261-cfd172afa4a3",
   "metadata": {},
   "source": [
    "# Importing needed libraries"
   ]
  },
  {
   "cell_type": "code",
   "execution_count": 1,
   "id": "02cd8150-e014-46bd-a6bd-9435fedf2982",
   "metadata": {},
   "outputs": [],
   "source": [
    "import pandas as pd\n",
    "import matplotlib.pyplot as plt\n",
    "import openpyxl\n",
    "import numpy as np"
   ]
  },
  {
   "cell_type": "markdown",
   "id": "3e38c860-54cb-4989-84bc-3c106fc9c70b",
   "metadata": {
    "tags": []
   },
   "source": [
    "# Importing Data"
   ]
  },
  {
   "cell_type": "code",
   "execution_count": 7,
   "id": "91a8f6ee-6742-48b3-85e0-98860caa1846",
   "metadata": {},
   "outputs": [],
   "source": [
    "#Importing data\n",
    "pdf2000 = pd.read_excel('./../Data sets/Census 2000.xlsx')"
   ]
  },
  {
   "cell_type": "code",
   "execution_count": 3,
   "id": "52733629-f319-40ae-b622-071471a7c9b1",
   "metadata": {
    "tags": []
   },
   "outputs": [
    {
     "data": {
      "text/html": [
       "<div>\n",
       "<style scoped>\n",
       "    .dataframe tbody tr th:only-of-type {\n",
       "        vertical-align: middle;\n",
       "    }\n",
       "\n",
       "    .dataframe tbody tr th {\n",
       "        vertical-align: top;\n",
       "    }\n",
       "\n",
       "    .dataframe thead th {\n",
       "        text-align: right;\n",
       "    }\n",
       "</style>\n",
       "<table border=\"1\" class=\"dataframe\">\n",
       "  <thead>\n",
       "    <tr style=\"text-align: right;\">\n",
       "      <th></th>\n",
       "      <th>Unnamed: 0</th>\n",
       "      <th>Social Explorer - Census 2000</th>\n",
       "      <th>Unnamed: 2</th>\n",
       "      <th>Unnamed: 3</th>\n",
       "      <th>Unnamed: 4</th>\n",
       "      <th>Unnamed: 5</th>\n",
       "      <th>Unnamed: 6</th>\n",
       "      <th>Unnamed: 7</th>\n",
       "      <th>Unnamed: 8</th>\n",
       "      <th>Unnamed: 9</th>\n",
       "      <th>Unnamed: 10</th>\n",
       "    </tr>\n",
       "  </thead>\n",
       "  <tbody>\n",
       "    <tr>\n",
       "      <th>0</th>\n",
       "      <td>Statistics</td>\n",
       "      <td>Census Tract 9, Hamilton County, Ohio</td>\n",
       "      <td>NaN</td>\n",
       "      <td>Census Tract 10, Hamilton County, Ohio</td>\n",
       "      <td>NaN</td>\n",
       "      <td>Census Tract 16, Hamilton County, Ohio</td>\n",
       "      <td>NaN</td>\n",
       "      <td>Census Tract 17, Hamilton County, Ohio</td>\n",
       "      <td>NaN</td>\n",
       "      <td>TOTAL (All Selected Census Tracts)</td>\n",
       "      <td>NaN</td>\n",
       "    </tr>\n",
       "    <tr>\n",
       "      <th>1</th>\n",
       "      <td>NaN</td>\n",
       "      <td>NaN</td>\n",
       "      <td>NaN</td>\n",
       "      <td>NaN</td>\n",
       "      <td>NaN</td>\n",
       "      <td>NaN</td>\n",
       "      <td>NaN</td>\n",
       "      <td>NaN</td>\n",
       "      <td>NaN</td>\n",
       "      <td>NaN</td>\n",
       "      <td>NaN</td>\n",
       "    </tr>\n",
       "    <tr>\n",
       "      <th>2</th>\n",
       "      <td>SE:T1. Total Population</td>\n",
       "      <td>NaN</td>\n",
       "      <td>NaN</td>\n",
       "      <td>NaN</td>\n",
       "      <td>NaN</td>\n",
       "      <td>NaN</td>\n",
       "      <td>NaN</td>\n",
       "      <td>NaN</td>\n",
       "      <td>NaN</td>\n",
       "      <td>NaN</td>\n",
       "      <td>NaN</td>\n",
       "    </tr>\n",
       "    <tr>\n",
       "      <th>3</th>\n",
       "      <td>Total Population</td>\n",
       "      <td>2070</td>\n",
       "      <td>NaN</td>\n",
       "      <td>1357</td>\n",
       "      <td>NaN</td>\n",
       "      <td>1712</td>\n",
       "      <td>NaN</td>\n",
       "      <td>1358</td>\n",
       "      <td>NaN</td>\n",
       "      <td>6497</td>\n",
       "      <td>NaN</td>\n",
       "    </tr>\n",
       "    <tr>\n",
       "      <th>4</th>\n",
       "      <td>NaN</td>\n",
       "      <td>NaN</td>\n",
       "      <td>NaN</td>\n",
       "      <td>NaN</td>\n",
       "      <td>NaN</td>\n",
       "      <td>NaN</td>\n",
       "      <td>NaN</td>\n",
       "      <td>NaN</td>\n",
       "      <td>NaN</td>\n",
       "      <td>NaN</td>\n",
       "      <td>NaN</td>\n",
       "    </tr>\n",
       "  </tbody>\n",
       "</table>\n",
       "</div>"
      ],
      "text/plain": [
       "                Unnamed: 0          Social Explorer - Census 2000  Unnamed: 2  \\\n",
       "0               Statistics  Census Tract 9, Hamilton County, Ohio         NaN   \n",
       "1                      NaN                                    NaN         NaN   \n",
       "2  SE:T1. Total Population                                    NaN         NaN   \n",
       "3         Total Population                                   2070         NaN   \n",
       "4                      NaN                                    NaN         NaN   \n",
       "\n",
       "                               Unnamed: 3  Unnamed: 4  \\\n",
       "0  Census Tract 10, Hamilton County, Ohio         NaN   \n",
       "1                                     NaN         NaN   \n",
       "2                                     NaN         NaN   \n",
       "3                                    1357         NaN   \n",
       "4                                     NaN         NaN   \n",
       "\n",
       "                               Unnamed: 5  Unnamed: 6  \\\n",
       "0  Census Tract 16, Hamilton County, Ohio         NaN   \n",
       "1                                     NaN         NaN   \n",
       "2                                     NaN         NaN   \n",
       "3                                    1712         NaN   \n",
       "4                                     NaN         NaN   \n",
       "\n",
       "                               Unnamed: 7  Unnamed: 8  \\\n",
       "0  Census Tract 17, Hamilton County, Ohio         NaN   \n",
       "1                                     NaN         NaN   \n",
       "2                                     NaN         NaN   \n",
       "3                                    1358         NaN   \n",
       "4                                     NaN         NaN   \n",
       "\n",
       "                           Unnamed: 9  Unnamed: 10  \n",
       "0  TOTAL (All Selected Census Tracts)          NaN  \n",
       "1                                 NaN          NaN  \n",
       "2                                 NaN          NaN  \n",
       "3                                6497          NaN  \n",
       "4                                 NaN          NaN  "
      ]
     },
     "execution_count": 3,
     "metadata": {},
     "output_type": "execute_result"
    }
   ],
   "source": [
    "#Info about rows and columns\n",
    "pdf2000.shape\n",
    "\n",
    "#Changing the number of rows displayed\n",
    "pd.set_option('display.max_rows', None)\n",
    "\n",
    "#displaying first 5 rows\n",
    "pdf2000.head()\n"
   ]
  },
  {
   "cell_type": "markdown",
   "id": "e7341bff-4ea9-4e99-b94f-37e2215b91fa",
   "metadata": {},
   "source": [
    "# Cleaning data"
   ]
  },
  {
   "cell_type": "code",
   "execution_count": 4,
   "id": "0e0cb9b1-13d5-4f10-b1e2-dfaa5a5ae1bd",
   "metadata": {},
   "outputs": [
    {
     "data": {
      "text/plain": [
       "['Unnamed: 0',\n",
       " 'Social Explorer - Census 2000',\n",
       " 'Unnamed: 2',\n",
       " 'Unnamed: 3',\n",
       " 'Unnamed: 4',\n",
       " 'Unnamed: 5',\n",
       " 'Unnamed: 6',\n",
       " 'Unnamed: 7',\n",
       " 'Unnamed: 8',\n",
       " 'Unnamed: 9',\n",
       " 'Unnamed: 10']"
      ]
     },
     "execution_count": 4,
     "metadata": {},
     "output_type": "execute_result"
    }
   ],
   "source": [
    "#Removing rows with all NaN values \n",
    "pdf2000 = pdf2000.dropna(subset=[\"Unnamed: 0\"])\n",
    "pdf2000 = pdf2000.dropna(subset=[\"Social Explorer - Census 2000\"])\n",
    "\n",
    "# Replacing NaN by 0s\n",
    "pdf2000 = pdf2000.fillna(0)\n",
    "\n",
    "#Dropping first row\n",
    "pdf2000 = pdf2000.drop([0])\n",
    "\n",
    "#Showing a list of columns names\n",
    "list(pdf2000)"
   ]
  },
  {
   "cell_type": "code",
   "execution_count": 5,
   "id": "8a65e7b0-7952-44bf-b26d-68013799fada",
   "metadata": {},
   "outputs": [],
   "source": [
    "#Renaming columns\n",
    "pdf2000.columns = ['Category',\n",
    "                   'Census Tract 9, Hamilton County, Ohio',\n",
    "                   'Census Tract 9, Percentage',\n",
    "                   'Census Tract 10, Hamilton County, Ohio',\n",
    "                   'Census Tract 10, Percentage',\n",
    "                   'Census Tract 16, Hamilton County, Ohio',\n",
    "                   'Census Tract 16, Percentage',\n",
    "                   'Census Tract 17, Hamilton County, Ohio',\n",
    "                   'Census Tract 17, Percentage',\n",
    "                   'TOTAL (All Selected Census Tracts)',\n",
    "                   'TOTAL Percentage']"
   ]
  },
  {
   "cell_type": "code",
   "execution_count": 6,
   "id": "e9ef8807-1ef7-4114-95a7-1b77283fe78e",
   "metadata": {},
   "outputs": [],
   "source": [
    "#Removing columns I dont want\n",
    "for col in pdf2000.columns:\n",
    "    if 'Percentage' in col:\n",
    "        del pdf2000[col]\n",
    "             "
   ]
  },
  {
   "cell_type": "code",
   "execution_count": 7,
   "id": "362c6d6f-fcad-4a29-a692-706bf8ae7736",
   "metadata": {},
   "outputs": [],
   "source": [
    "#Obtaining index values of all the rows\n",
    "pdf2000.index.values\n",
    "\n",
    "\n",
    "#Removing all the rows I don't want\n",
    "pdf2000 = pdf2000.drop([3,   6,   7,   8,  11,  12,  13,  16,  17,  18,  21,  22,  23,\n",
    "        24,  25,  26,  27,  28,  29,  30,  31,  32,  33,  36,  37,  38,\n",
    "        48,  51,  52,  53,  54,  55,\n",
    "        56,  57,  58,  59,  60,  61,  62,  63,  64,  65,  66,  67,  70,\n",
    "        71,  72,  73,  74,  75,  76,  77,  78,  81,  82,  83,  84,  85,\n",
    "        86,  87,  88,  89,  90,  91,  92,  93,  94,  95,  96,  97,  98,\n",
    "       101, 102, 103, 104, 105, 106, 109, 110, 111,112, 113, 114, 115,116, \n",
    "        119, 120, 121, 124, 125, 126, 129, 132, 135, 136, 137, 140,\n",
    "       141, 142, 145, 146, 147, 148, 151, 152, 153, 154, 155, 156, 157,\n",
    "       158, 159, 160, 161, 162, 165, 168, 169, 170, 171, 172, 173, 174,\n",
    "       175, 178, 181, 184, 187, 190, 191, 192, 195, 196, 199, 200, 201,\n",
    "       202, 203, 204, 205, 206, 207, 208, 209, 212, 213, 214, 215, 216,\n",
    "       217, 218, 221, 222, 223, 224, 225, 228, 229, 230, 231, 232])"
   ]
  },
  {
   "cell_type": "code",
   "execution_count": 8,
   "id": "876dfad3-e467-4b28-a823-aed66d1d44f7",
   "metadata": {},
   "outputs": [
    {
     "data": {
      "text/plain": [
       "Category                                   object\n",
       "Census Tract 9, Hamilton County, Ohio     float64\n",
       "Census Tract 10, Hamilton County, Ohio    float64\n",
       "Census Tract 16, Hamilton County, Ohio    float64\n",
       "Census Tract 17, Hamilton County, Ohio    float64\n",
       "TOTAL (All Selected Census Tracts)        float64\n",
       "dtype: object"
      ]
     },
     "execution_count": 8,
     "metadata": {},
     "output_type": "execute_result"
    }
   ],
   "source": [
    "#Changing the data to floats\n",
    "pdf2000 = pdf2000.astype({'Census Tract 9, Hamilton County, Ohio': np.float64, 'Census Tract 10, Hamilton County, Ohio':np.float64,\n",
    "                          'Census Tract 16, Hamilton County, Ohio':np.float64,'Census Tract 17, Hamilton County, Ohio':np.float64,\n",
    "                          'TOTAL (All Selected Census Tracts)':np.float64})\n",
    "\n",
    "#Checking if data are floats now\n",
    "pdf2000.dtypes"
   ]
  },
  {
   "cell_type": "code",
   "execution_count": 9,
   "id": "fc41e74d-ba85-41b5-b616-ca6fd57cb166",
   "metadata": {},
   "outputs": [
    {
     "data": {
      "text/html": [
       "<div>\n",
       "<style scoped>\n",
       "    .dataframe tbody tr th:only-of-type {\n",
       "        vertical-align: middle;\n",
       "    }\n",
       "\n",
       "    .dataframe tbody tr th {\n",
       "        vertical-align: top;\n",
       "    }\n",
       "\n",
       "    .dataframe thead th {\n",
       "        text-align: right;\n",
       "    }\n",
       "</style>\n",
       "<table border=\"1\" class=\"dataframe\">\n",
       "  <thead>\n",
       "    <tr style=\"text-align: right;\">\n",
       "      <th></th>\n",
       "      <th>Category</th>\n",
       "      <th>Census Tract 9, Hamilton County, Ohio</th>\n",
       "      <th>Census Tract 10, Hamilton County, Ohio</th>\n",
       "      <th>Census Tract 16, Hamilton County, Ohio</th>\n",
       "      <th>Census Tract 17, Hamilton County, Ohio</th>\n",
       "      <th>TOTAL (All Selected Census Tracts)</th>\n",
       "    </tr>\n",
       "  </thead>\n",
       "  <tbody>\n",
       "    <tr>\n",
       "      <th>41</th>\n",
       "      <td>Total Population:</td>\n",
       "      <td>2070.0</td>\n",
       "      <td>1357.0</td>\n",
       "      <td>1712.0</td>\n",
       "      <td>1358.0</td>\n",
       "      <td>6497.0</td>\n",
       "    </tr>\n",
       "    <tr>\n",
       "      <th>42</th>\n",
       "      <td>White Alone</td>\n",
       "      <td>505.0</td>\n",
       "      <td>384.0</td>\n",
       "      <td>213.0</td>\n",
       "      <td>214.0</td>\n",
       "      <td>1316.0</td>\n",
       "    </tr>\n",
       "    <tr>\n",
       "      <th>43</th>\n",
       "      <td>Black or African American Alone</td>\n",
       "      <td>1469.0</td>\n",
       "      <td>921.0</td>\n",
       "      <td>1437.0</td>\n",
       "      <td>1106.0</td>\n",
       "      <td>4933.0</td>\n",
       "    </tr>\n",
       "    <tr>\n",
       "      <th>44</th>\n",
       "      <td>American Indian and Alaska Native Alone</td>\n",
       "      <td>14.0</td>\n",
       "      <td>1.0</td>\n",
       "      <td>4.0</td>\n",
       "      <td>5.0</td>\n",
       "      <td>24.0</td>\n",
       "    </tr>\n",
       "    <tr>\n",
       "      <th>45</th>\n",
       "      <td>Asian Alone</td>\n",
       "      <td>11.0</td>\n",
       "      <td>9.0</td>\n",
       "      <td>5.0</td>\n",
       "      <td>4.0</td>\n",
       "      <td>29.0</td>\n",
       "    </tr>\n",
       "    <tr>\n",
       "      <th>46</th>\n",
       "      <td>Native Hawaiian and Other Pacific Islander Alone</td>\n",
       "      <td>0.0</td>\n",
       "      <td>1.0</td>\n",
       "      <td>0.0</td>\n",
       "      <td>0.0</td>\n",
       "      <td>1.0</td>\n",
       "    </tr>\n",
       "    <tr>\n",
       "      <th>47</th>\n",
       "      <td>Some other race Alone</td>\n",
       "      <td>12.0</td>\n",
       "      <td>12.0</td>\n",
       "      <td>20.0</td>\n",
       "      <td>14.0</td>\n",
       "      <td>58.0</td>\n",
       "    </tr>\n",
       "  </tbody>\n",
       "</table>\n",
       "</div>"
      ],
      "text/plain": [
       "                                            Category  \\\n",
       "41                                 Total Population:   \n",
       "42                                       White Alone   \n",
       "43                   Black or African American Alone   \n",
       "44           American Indian and Alaska Native Alone   \n",
       "45                                       Asian Alone   \n",
       "46  Native Hawaiian and Other Pacific Islander Alone   \n",
       "47                             Some other race Alone   \n",
       "\n",
       "    Census Tract 9, Hamilton County, Ohio  \\\n",
       "41                                 2070.0   \n",
       "42                                  505.0   \n",
       "43                                 1469.0   \n",
       "44                                   14.0   \n",
       "45                                   11.0   \n",
       "46                                    0.0   \n",
       "47                                   12.0   \n",
       "\n",
       "    Census Tract 10, Hamilton County, Ohio  \\\n",
       "41                                  1357.0   \n",
       "42                                   384.0   \n",
       "43                                   921.0   \n",
       "44                                     1.0   \n",
       "45                                     9.0   \n",
       "46                                     1.0   \n",
       "47                                    12.0   \n",
       "\n",
       "    Census Tract 16, Hamilton County, Ohio  \\\n",
       "41                                  1712.0   \n",
       "42                                   213.0   \n",
       "43                                  1437.0   \n",
       "44                                     4.0   \n",
       "45                                     5.0   \n",
       "46                                     0.0   \n",
       "47                                    20.0   \n",
       "\n",
       "    Census Tract 17, Hamilton County, Ohio  TOTAL (All Selected Census Tracts)  \n",
       "41                                  1358.0                              6497.0  \n",
       "42                                   214.0                              1316.0  \n",
       "43                                  1106.0                              4933.0  \n",
       "44                                     5.0                                24.0  \n",
       "45                                     4.0                                29.0  \n",
       "46                                     0.0                                 1.0  \n",
       "47                                    14.0                                58.0  "
      ]
     },
     "execution_count": 9,
     "metadata": {},
     "output_type": "execute_result"
    }
   ],
   "source": [
    "pdf2000"
   ]
  },
  {
   "cell_type": "markdown",
   "id": "9df9648d-fc46-4f03-83cb-0d457bf6e9ff",
   "metadata": {},
   "source": [
    "# Creating visualizations"
   ]
  },
  {
   "cell_type": "code",
   "execution_count": 10,
   "id": "a2a23990-1181-4a81-8d36-f5d40c9ac9af",
   "metadata": {
    "tags": []
   },
   "outputs": [
    {
     "data": {
      "text/plain": [
       "<AxesSubplot:xlabel='Category'>"
      ]
     },
     "execution_count": 10,
     "metadata": {},
     "output_type": "execute_result"
    },
    {
     "data": {
      "image/png": "[encoded data removed]",
      "text/plain": [
       "<Figure size 720x720 with 1 Axes>"
      ]
     },
     "metadata": {
      "needs_background": "light"
     },
     "output_type": "display_data"
    }
   ],
   "source": [
    "# Total white and Black population of OTR \n",
    "pdf2000.iloc[1:7].plot.bar(x = 'Category', y = 'TOTAL (All Selected Census Tracts)', figsize=(10,10))"
   ]
  },
  {
   "cell_type": "code",
   "execution_count": 11,
   "id": "1771b2de-539c-4ce9-8795-45c55f27cc9e",
   "metadata": {},
   "outputs": [],
   "source": [
    "pdf2000.to_pickle('pdf2000.pkl')"
   ]
  },
  {
   "cell_type": "code",
   "execution_count": null,
   "id": "d39ec7f6-962f-496c-8bd6-9e6cc8d0f66d",
   "metadata": {},
   "outputs": [],
   "source": []
  }
 ],
 "metadata": {
  "kernelspec": {
   "display_name": "Python 3 (ipykernel)",
   "language": "python",
   "name": "python3"
  },
  "language_info": {
   "codemirror_mode": {
    "name": "ipython",
    "version": 3
   },
   "file_extension": ".py",
   "mimetype": "text/x-python",
   "name": "python",
   "nbconvert_exporter": "python",
   "pygments_lexer": "ipython3",
   "version": "3.8.13"
  }
 },
 "nbformat": 4,
 "nbformat_minor": 5
}
