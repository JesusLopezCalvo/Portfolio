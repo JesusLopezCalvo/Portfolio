{
 "cells": [
  {
   "cell_type": "markdown",
   "id": "bd2b4a16-04fc-4324-bda2-cc398ebabf27",
   "metadata": {},
   "source": [
    "# Importing needed libraries"
   ]
  },
  {
   "cell_type": "code",
   "execution_count": 1,
   "id": "1f636992-71fe-4cdd-906f-fabcaf1612dc",
   "metadata": {
    "tags": []
   },
   "outputs": [],
   "source": [
    "import pandas as pd\n",
    "import matplotlib.pyplot as plt\n",
    "import openpyxl\n",
    "import numpy as np"
   ]
  },
  {
   "cell_type": "markdown",
   "id": "5cc410ad-407b-4ef5-a529-b0ac9de54aaa",
   "metadata": {
    "tags": []
   },
   "source": [
    "# Importing Data"
   ]
  },
  {
   "cell_type": "code",
   "execution_count": 2,
   "id": "198b959b-dd49-4ec8-bf57-8dada13ba01c",
   "metadata": {},
   "outputs": [],
   "source": [
    "#Importing data\n",
    "pdf1990 = pd.read_excel('./../Data sets/Census 1990.xlsx')"
   ]
  },
  {
   "cell_type": "code",
   "execution_count": 3,
   "id": "8aaf55cb-f76d-47e7-aedc-7469adc6bcc4",
   "metadata": {
    "tags": []
   },
   "outputs": [
    {
     "data": {
      "text/html": [
       "<div>\n",
       "<style scoped>\n",
       "    .dataframe tbody tr th:only-of-type {\n",
       "        vertical-align: middle;\n",
       "    }\n",
       "\n",
       "    .dataframe tbody tr th {\n",
       "        vertical-align: top;\n",
       "    }\n",
       "\n",
       "    .dataframe thead th {\n",
       "        text-align: right;\n",
       "    }\n",
       "</style>\n",
       "<table border=\"1\" class=\"dataframe\">\n",
       "  <thead>\n",
       "    <tr style=\"text-align: right;\">\n",
       "      <th></th>\n",
       "      <th>Unnamed: 0</th>\n",
       "      <th>Social Explorer - Census 1990</th>\n",
       "      <th>Unnamed: 2</th>\n",
       "      <th>Unnamed: 3</th>\n",
       "      <th>Unnamed: 4</th>\n",
       "      <th>Unnamed: 5</th>\n",
       "      <th>Unnamed: 6</th>\n",
       "      <th>Unnamed: 7</th>\n",
       "      <th>Unnamed: 8</th>\n",
       "      <th>Unnamed: 9</th>\n",
       "      <th>Unnamed: 10</th>\n",
       "    </tr>\n",
       "  </thead>\n",
       "  <tbody>\n",
       "    <tr>\n",
       "      <th>0</th>\n",
       "      <td>Statistics</td>\n",
       "      <td>Tract 9, Hamilton County, Ohio</td>\n",
       "      <td>NaN</td>\n",
       "      <td>Tract 10, Hamilton County, Ohio</td>\n",
       "      <td>NaN</td>\n",
       "      <td>Tract 16, Hamilton County, Ohio</td>\n",
       "      <td>NaN</td>\n",
       "      <td>Tract 17, Hamilton County, Ohio</td>\n",
       "      <td>NaN</td>\n",
       "      <td>TOTAL (All Selected Census Tracts)</td>\n",
       "      <td>NaN</td>\n",
       "    </tr>\n",
       "    <tr>\n",
       "      <th>1</th>\n",
       "      <td>NaN</td>\n",
       "      <td>NaN</td>\n",
       "      <td>NaN</td>\n",
       "      <td>NaN</td>\n",
       "      <td>NaN</td>\n",
       "      <td>NaN</td>\n",
       "      <td>NaN</td>\n",
       "      <td>NaN</td>\n",
       "      <td>NaN</td>\n",
       "      <td>NaN</td>\n",
       "      <td>NaN</td>\n",
       "    </tr>\n",
       "    <tr>\n",
       "      <th>2</th>\n",
       "      <td>SE:T1. Total Population</td>\n",
       "      <td>NaN</td>\n",
       "      <td>NaN</td>\n",
       "      <td>NaN</td>\n",
       "      <td>NaN</td>\n",
       "      <td>NaN</td>\n",
       "      <td>NaN</td>\n",
       "      <td>NaN</td>\n",
       "      <td>NaN</td>\n",
       "      <td>NaN</td>\n",
       "      <td>NaN</td>\n",
       "    </tr>\n",
       "    <tr>\n",
       "      <th>3</th>\n",
       "      <td>Total Population</td>\n",
       "      <td>2614</td>\n",
       "      <td>NaN</td>\n",
       "      <td>1594</td>\n",
       "      <td>NaN</td>\n",
       "      <td>2312</td>\n",
       "      <td>NaN</td>\n",
       "      <td>1861</td>\n",
       "      <td>NaN</td>\n",
       "      <td>8381</td>\n",
       "      <td>NaN</td>\n",
       "    </tr>\n",
       "    <tr>\n",
       "      <th>4</th>\n",
       "      <td>NaN</td>\n",
       "      <td>NaN</td>\n",
       "      <td>NaN</td>\n",
       "      <td>NaN</td>\n",
       "      <td>NaN</td>\n",
       "      <td>NaN</td>\n",
       "      <td>NaN</td>\n",
       "      <td>NaN</td>\n",
       "      <td>NaN</td>\n",
       "      <td>NaN</td>\n",
       "      <td>NaN</td>\n",
       "    </tr>\n",
       "  </tbody>\n",
       "</table>\n",
       "</div>"
      ],
      "text/plain": [
       "                Unnamed: 0   Social Explorer - Census 1990  Unnamed: 2  \\\n",
       "0               Statistics  Tract 9, Hamilton County, Ohio         NaN   \n",
       "1                      NaN                             NaN         NaN   \n",
       "2  SE:T1. Total Population                             NaN         NaN   \n",
       "3         Total Population                            2614         NaN   \n",
       "4                      NaN                             NaN         NaN   \n",
       "\n",
       "                        Unnamed: 3  Unnamed: 4  \\\n",
       "0  Tract 10, Hamilton County, Ohio         NaN   \n",
       "1                              NaN         NaN   \n",
       "2                              NaN         NaN   \n",
       "3                             1594         NaN   \n",
       "4                              NaN         NaN   \n",
       "\n",
       "                        Unnamed: 5  Unnamed: 6  \\\n",
       "0  Tract 16, Hamilton County, Ohio         NaN   \n",
       "1                              NaN         NaN   \n",
       "2                              NaN         NaN   \n",
       "3                             2312         NaN   \n",
       "4                              NaN         NaN   \n",
       "\n",
       "                        Unnamed: 7  Unnamed: 8  \\\n",
       "0  Tract 17, Hamilton County, Ohio         NaN   \n",
       "1                              NaN         NaN   \n",
       "2                              NaN         NaN   \n",
       "3                             1861         NaN   \n",
       "4                              NaN         NaN   \n",
       "\n",
       "                           Unnamed: 9  Unnamed: 10  \n",
       "0  TOTAL (All Selected Census Tracts)          NaN  \n",
       "1                                 NaN          NaN  \n",
       "2                                 NaN          NaN  \n",
       "3                                8381          NaN  \n",
       "4                                 NaN          NaN  "
      ]
     },
     "execution_count": 3,
     "metadata": {},
     "output_type": "execute_result"
    }
   ],
   "source": [
    "#Info about rows and columns\n",
    "pdf1990.shape\n",
    "\n",
    "#Changing the number of rows displayed\n",
    "pd.set_option('display.max_rows', None)\n",
    "\n",
    "#displaying first 5 rows\n",
    "pdf1990.head()\n"
   ]
  },
  {
   "cell_type": "markdown",
   "id": "29f38980-4276-4eee-8b1b-7644827fda13",
   "metadata": {},
   "source": [
    "# Cleaning data"
   ]
  },
  {
   "cell_type": "code",
   "execution_count": 4,
   "id": "9800cdd7-012d-4356-92ed-77111b043eda",
   "metadata": {},
   "outputs": [
    {
     "data": {
      "text/plain": [
       "['Unnamed: 0',\n",
       " 'Social Explorer - Census 1990',\n",
       " 'Unnamed: 2',\n",
       " 'Unnamed: 3',\n",
       " 'Unnamed: 4',\n",
       " 'Unnamed: 5',\n",
       " 'Unnamed: 6',\n",
       " 'Unnamed: 7',\n",
       " 'Unnamed: 8',\n",
       " 'Unnamed: 9',\n",
       " 'Unnamed: 10']"
      ]
     },
     "execution_count": 4,
     "metadata": {},
     "output_type": "execute_result"
    }
   ],
   "source": [
    "#Removing rows with all NaN values \n",
    "pdf1990 = pdf1990.dropna(subset=[\"Unnamed: 0\"])\n",
    "pdf1990 = pdf1990.dropna(subset=[\"Social Explorer - Census 1990\"])\n",
    "\n",
    "# Replacing NaN by 0s\n",
    "pdf1990 = pdf1990.fillna(0)\n",
    "\n",
    "#Dropping first row\n",
    "pdf1990 = pdf1990.drop([0])\n",
    "\n",
    "#Showing a list of columns names\n",
    "list(pdf1990)"
   ]
  },
  {
   "cell_type": "code",
   "execution_count": 5,
   "id": "929e6bc9-36b0-4944-9b99-6d95aaf4938e",
   "metadata": {},
   "outputs": [],
   "source": [
    "#Renaming columns\n",
    "pdf1990.columns = ['Category',\n",
    "                   'Census Tract 9, Hamilton County, Ohio',\n",
    "                   'Census Tract 9, Percentage',\n",
    "                   'Census Tract 10, Hamilton County, Ohio',\n",
    "                   'Census Tract 10, Percentage',\n",
    "                   'Census Tract 16, Hamilton County, Ohio',\n",
    "                   'Census Tract 16, Percentage',\n",
    "                   'Census Tract 17, Hamilton County, Ohio',\n",
    "                   'Census Tract 17, Percentage',\n",
    "                   'TOTAL (All Selected Census Tracts)',\n",
    "                   'TOTAL Percentage']"
   ]
  },
  {
   "cell_type": "code",
   "execution_count": 6,
   "id": "3d39ce49-d59d-4704-b745-be8b7477abd0",
   "metadata": {},
   "outputs": [],
   "source": [
    "#Removing columns I dont want\n",
    "for col in pdf1990.columns:\n",
    "    if 'Percentage' in col:\n",
    "        del pdf1990[col]\n",
    "             "
   ]
  },
  {
   "cell_type": "code",
   "execution_count": 7,
   "id": "87dec719-f708-4147-9960-2d89120d4ac5",
   "metadata": {},
   "outputs": [],
   "source": [
    "#Obtaining index values of all the rows\n",
    "pdf1990.index.values\n",
    "\n",
    "\n",
    "#Removing all the rows I don't want\n",
    "pdf1990 = pdf1990.drop([3,   6,   7,   8,  11,  12,  13,  16,  17,  18,  21,  22,  23,\n",
    "        24,  25,  26,  27,  28,  29,  30,  31,  32,  33,\n",
    "        44,  45,  46,  47,  48,  49,  50,  51,  52,  53,\n",
    "        54,  55,  56,  59,  60,  61,  62,  63,  64,  65,  66,  67,  70,\n",
    "        71,  72,  73,  74,  75,  76,  77,  78,  79,  80,  81,  82,  83,\n",
    "        86,  87,  88,  89,  90,  91,  94,  95,  96,  97,  98,  99, 102,\n",
    "       103, 106, 107, 108, 111, 114, 117, 120, 121, 122, 125, 126, 127,\n",
    "       130, 131, 132, 133, 136, 137, 138, 139, 140, 141, 142, 143, 144,\n",
    "       145, 146, 147, 150, 153, 154, 155, 156, 157, 158, 159, 160, 163,\n",
    "       166, 169, 172, 173, 174, 175, 176, 177, 178, 179, 180, 183, 184,\n",
    "       187, 188, 189, 190, 191, 192, 193, 194, 195, 196, 197, 200, 201,\n",
    "       202, 203, 204, 205, 206, 209, 210, 211, 212, 213, 216, 217, 218,\n",
    "       219, 220])"
   ]
  },
  {
   "cell_type": "code",
   "execution_count": 8,
   "id": "261668b8-6c39-4b24-92bc-3aa916b280bc",
   "metadata": {},
   "outputs": [
    {
     "data": {
      "text/plain": [
       "Category                                   object\n",
       "Census Tract 9, Hamilton County, Ohio     float64\n",
       "Census Tract 10, Hamilton County, Ohio    float64\n",
       "Census Tract 16, Hamilton County, Ohio    float64\n",
       "Census Tract 17, Hamilton County, Ohio    float64\n",
       "TOTAL (All Selected Census Tracts)        float64\n",
       "dtype: object"
      ]
     },
     "execution_count": 8,
     "metadata": {},
     "output_type": "execute_result"
    }
   ],
   "source": [
    "#Changing the data to floats\n",
    "pdf1990 = pdf1990.astype({'Census Tract 9, Hamilton County, Ohio': np.float64, 'Census Tract 10, Hamilton County, Ohio':np.float64,\n",
    "                          'Census Tract 16, Hamilton County, Ohio':np.float64,'Census Tract 17, Hamilton County, Ohio':np.float64,\n",
    "                          'TOTAL (All Selected Census Tracts)':np.float64})\n",
    "\n",
    "#Checking if data are floats now\n",
    "pdf1990.dtypes"
   ]
  },
  {
   "cell_type": "code",
   "execution_count": 9,
   "id": "94a96445-2df3-437b-8e37-76b3d7eba959",
   "metadata": {},
   "outputs": [
    {
     "data": {
      "text/html": [
       "<div>\n",
       "<style scoped>\n",
       "    .dataframe tbody tr th:only-of-type {\n",
       "        vertical-align: middle;\n",
       "    }\n",
       "\n",
       "    .dataframe tbody tr th {\n",
       "        vertical-align: top;\n",
       "    }\n",
       "\n",
       "    .dataframe thead th {\n",
       "        text-align: right;\n",
       "    }\n",
       "</style>\n",
       "<table border=\"1\" class=\"dataframe\">\n",
       "  <thead>\n",
       "    <tr style=\"text-align: right;\">\n",
       "      <th></th>\n",
       "      <th>Category</th>\n",
       "      <th>Census Tract 9, Hamilton County, Ohio</th>\n",
       "      <th>Census Tract 10, Hamilton County, Ohio</th>\n",
       "      <th>Census Tract 16, Hamilton County, Ohio</th>\n",
       "      <th>Census Tract 17, Hamilton County, Ohio</th>\n",
       "      <th>TOTAL (All Selected Census Tracts)</th>\n",
       "    </tr>\n",
       "  </thead>\n",
       "  <tbody>\n",
       "    <tr>\n",
       "      <th>36</th>\n",
       "      <td>Persons:</td>\n",
       "      <td>2614.0</td>\n",
       "      <td>1594.0</td>\n",
       "      <td>2312.0</td>\n",
       "      <td>1861.0</td>\n",
       "      <td>8381.0</td>\n",
       "    </tr>\n",
       "    <tr>\n",
       "      <th>37</th>\n",
       "      <td>White</td>\n",
       "      <td>765.0</td>\n",
       "      <td>828.0</td>\n",
       "      <td>472.0</td>\n",
       "      <td>403.0</td>\n",
       "      <td>2468.0</td>\n",
       "    </tr>\n",
       "    <tr>\n",
       "      <th>38</th>\n",
       "      <td>Black</td>\n",
       "      <td>1820.0</td>\n",
       "      <td>746.0</td>\n",
       "      <td>1817.0</td>\n",
       "      <td>1447.0</td>\n",
       "      <td>5830.0</td>\n",
       "    </tr>\n",
       "    <tr>\n",
       "      <th>39</th>\n",
       "      <td>American Indian, Eskimo, or Aleut</td>\n",
       "      <td>22.0</td>\n",
       "      <td>5.0</td>\n",
       "      <td>8.0</td>\n",
       "      <td>3.0</td>\n",
       "      <td>38.0</td>\n",
       "    </tr>\n",
       "    <tr>\n",
       "      <th>40</th>\n",
       "      <td>Asian or Pacific Islander</td>\n",
       "      <td>1.0</td>\n",
       "      <td>15.0</td>\n",
       "      <td>3.0</td>\n",
       "      <td>3.0</td>\n",
       "      <td>22.0</td>\n",
       "    </tr>\n",
       "    <tr>\n",
       "      <th>41</th>\n",
       "      <td>Other race</td>\n",
       "      <td>6.0</td>\n",
       "      <td>0.0</td>\n",
       "      <td>12.0</td>\n",
       "      <td>5.0</td>\n",
       "      <td>23.0</td>\n",
       "    </tr>\n",
       "  </tbody>\n",
       "</table>\n",
       "</div>"
      ],
      "text/plain": [
       "                             Category  Census Tract 9, Hamilton County, Ohio  \\\n",
       "36                           Persons:                                 2614.0   \n",
       "37                              White                                  765.0   \n",
       "38                              Black                                 1820.0   \n",
       "39  American Indian, Eskimo, or Aleut                                   22.0   \n",
       "40          Asian or Pacific Islander                                    1.0   \n",
       "41                         Other race                                    6.0   \n",
       "\n",
       "    Census Tract 10, Hamilton County, Ohio  \\\n",
       "36                                  1594.0   \n",
       "37                                   828.0   \n",
       "38                                   746.0   \n",
       "39                                     5.0   \n",
       "40                                    15.0   \n",
       "41                                     0.0   \n",
       "\n",
       "    Census Tract 16, Hamilton County, Ohio  \\\n",
       "36                                  2312.0   \n",
       "37                                   472.0   \n",
       "38                                  1817.0   \n",
       "39                                     8.0   \n",
       "40                                     3.0   \n",
       "41                                    12.0   \n",
       "\n",
       "    Census Tract 17, Hamilton County, Ohio  TOTAL (All Selected Census Tracts)  \n",
       "36                                  1861.0                              8381.0  \n",
       "37                                   403.0                              2468.0  \n",
       "38                                  1447.0                              5830.0  \n",
       "39                                     3.0                                38.0  \n",
       "40                                     3.0                                22.0  \n",
       "41                                     5.0                                23.0  "
      ]
     },
     "execution_count": 9,
     "metadata": {},
     "output_type": "execute_result"
    }
   ],
   "source": [
    "pdf1990"
   ]
  },
  {
   "cell_type": "markdown",
   "id": "af33534a-c74c-45f2-a785-0f11accecc6d",
   "metadata": {},
   "source": [
    "# Creating visualizations"
   ]
  },
  {
   "cell_type": "code",
   "execution_count": 10,
   "id": "c7a46fff-4de2-4140-9005-eef877b45130",
   "metadata": {
    "tags": []
   },
   "outputs": [
    {
     "data": {
      "text/plain": [
       "<AxesSubplot:xlabel='Category'>"
      ]
     },
     "execution_count": 10,
     "metadata": {},
     "output_type": "execute_result"
    },
    {
     "data": {
      "image/png": "[encoded data removed]",
      "text/plain": [
       "<Figure size 720x720 with 1 Axes>"
      ]
     },
     "metadata": {
      "needs_background": "light"
     },
     "output_type": "display_data"
    }
   ],
   "source": [
    "# Total white and Black population of OTR \n",
    "pdf1990.iloc[1:6].plot.bar(x = 'Category', y = 'TOTAL (All Selected Census Tracts)', figsize=(10,10))"
   ]
  },
  {
   "cell_type": "code",
   "execution_count": 11,
   "id": "75fbf0a6-3de5-41f9-8547-bddf02ed1ca9",
   "metadata": {},
   "outputs": [],
   "source": [
    "pdf1990.to_pickle('pdf1990.pkl')"
   ]
  },
  {
   "cell_type": "code",
   "execution_count": null,
   "id": "fadc6324-dc4b-46b8-8cd5-879e52d1ee58",
   "metadata": {},
   "outputs": [],
   "source": []
  },
  {
   "cell_type": "code",
   "execution_count": null,
   "id": "8b812a63-3aab-438e-9d20-4ffdebc5c3b2",
   "metadata": {},
   "outputs": [],
   "source": []
  },
  {
   "cell_type": "code",
   "execution_count": null,
   "id": "b36cd41e-6c7e-435b-8edb-ff49c32d80f9",
   "metadata": {},
   "outputs": [],
   "source": []
  }
 ],
 "metadata": {
  "kernelspec": {
   "display_name": "Python 3 (ipykernel)",
   "language": "python",
   "name": "python3"
  },
  "language_info": {
   "codemirror_mode": {
    "name": "ipython",
    "version": 3
   },
   "file_extension": ".py",
   "mimetype": "text/x-python",
   "name": "python",
   "nbconvert_exporter": "python",
   "pygments_lexer": "ipython3",
   "version": "3.8.13"
  }
 },
 "nbformat": 4,
 "nbformat_minor": 5
}
