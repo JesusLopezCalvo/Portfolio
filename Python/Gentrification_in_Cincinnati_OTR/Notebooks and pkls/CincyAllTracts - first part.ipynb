{
 "cells": [
  {
   "cell_type": "markdown",
   "id": "fc8e0457-71b6-4168-878f-d8740a955f0b",
   "metadata": {},
   "source": [
    "# Importing needed libraries"
   ]
  },
  {
   "cell_type": "code",
   "execution_count": 1,
   "id": "97c211c3-6eae-48fc-bed0-e1766e906a06",
   "metadata": {},
   "outputs": [],
   "source": [
    "# to read and visualize spatial data\n",
    "import geopandas as gpd\n",
    "\n",
    "# to provide basemaps\n",
    "import contextily as ctx\n",
    "\n",
    "# to provide plots\n",
    "import matplotlib.pyplot as plt\n",
    "\n",
    "import numpy as np\n",
    "import pandas as pd"
   ]
  },
  {
   "cell_type": "markdown",
   "id": "c0700416-d62b-4e77-83d4-20799a2dfe67",
   "metadata": {},
   "source": [
    "# Importing Data"
   ]
  },
  {
   "cell_type": "code",
   "execution_count": 3,
   "id": "01a39e95-3a34-41b5-b2d8-0b19abf73f31",
   "metadata": {},
   "outputs": [
    {
     "data": {
      "text/html": [
       "<div>\n",
       "<style scoped>\n",
       "    .dataframe tbody tr th:only-of-type {\n",
       "        vertical-align: middle;\n",
       "    }\n",
       "\n",
       "    .dataframe tbody tr th {\n",
       "        vertical-align: top;\n",
       "    }\n",
       "\n",
       "    .dataframe thead th {\n",
       "        text-align: right;\n",
       "    }\n",
       "</style>\n",
       "<table border=\"1\" class=\"dataframe\">\n",
       "  <thead>\n",
       "    <tr style=\"text-align: right;\">\n",
       "      <th></th>\n",
       "      <th>geoid</th>\n",
       "      <th>name</th>\n",
       "      <th>B03002001</th>\n",
       "      <th>B03002001, Error</th>\n",
       "      <th>B03002002</th>\n",
       "      <th>B03002002, Error</th>\n",
       "      <th>B03002003</th>\n",
       "      <th>B03002003, Error</th>\n",
       "      <th>B03002004</th>\n",
       "      <th>B03002004, Error</th>\n",
       "      <th>...</th>\n",
       "      <th>B03002017, Error</th>\n",
       "      <th>B03002018</th>\n",
       "      <th>B03002018, Error</th>\n",
       "      <th>B03002019</th>\n",
       "      <th>B03002019, Error</th>\n",
       "      <th>B03002020</th>\n",
       "      <th>B03002020, Error</th>\n",
       "      <th>B03002021</th>\n",
       "      <th>B03002021, Error</th>\n",
       "      <th>geometry</th>\n",
       "    </tr>\n",
       "  </thead>\n",
       "  <tbody>\n",
       "    <tr>\n",
       "      <th>9</th>\n",
       "      <td>14000US39061001700</td>\n",
       "      <td>Census Tract 17, Hamilton, OH</td>\n",
       "      <td>1136.0</td>\n",
       "      <td>276.0</td>\n",
       "      <td>1122.0</td>\n",
       "      <td>277.0</td>\n",
       "      <td>411.0</td>\n",
       "      <td>184.0</td>\n",
       "      <td>601.0</td>\n",
       "      <td>178.0</td>\n",
       "      <td>...</td>\n",
       "      <td>12.0</td>\n",
       "      <td>0.0</td>\n",
       "      <td>12.0</td>\n",
       "      <td>0.0</td>\n",
       "      <td>12.0</td>\n",
       "      <td>0.0</td>\n",
       "      <td>12.0</td>\n",
       "      <td>0.0</td>\n",
       "      <td>12.0</td>\n",
       "      <td>MULTIPOLYGON (((-84.51752 39.11946, -84.51742 ...</td>\n",
       "    </tr>\n",
       "  </tbody>\n",
       "</table>\n",
       "<p>1 rows × 45 columns</p>\n",
       "</div>"
      ],
      "text/plain": [
       "                geoid                           name  B03002001  \\\n",
       "9  14000US39061001700  Census Tract 17, Hamilton, OH     1136.0   \n",
       "\n",
       "   B03002001, Error  B03002002  B03002002, Error  B03002003  B03002003, Error  \\\n",
       "9             276.0     1122.0             277.0      411.0             184.0   \n",
       "\n",
       "   B03002004  B03002004, Error  ...  B03002017, Error  B03002018  \\\n",
       "9      601.0             178.0  ...              12.0        0.0   \n",
       "\n",
       "   B03002018, Error  B03002019  B03002019, Error  B03002020  B03002020, Error  \\\n",
       "9              12.0        0.0              12.0        0.0              12.0   \n",
       "\n",
       "   B03002021  B03002021, Error  \\\n",
       "9        0.0              12.0   \n",
       "\n",
       "                                            geometry  \n",
       "9  MULTIPOLYGON (((-84.51752 39.11946, -84.51742 ...  \n",
       "\n",
       "[1 rows x 45 columns]"
      ]
     },
     "execution_count": 3,
     "metadata": {},
     "output_type": "execute_result"
    }
   ],
   "source": [
    "# Load a data file\n",
    "gdf = gpd.read_file('Data sets/acs2020_5yr_B03002_14000US39061008202.geojson')\n",
    "\n",
    "# Get the number of rows and columns\n",
    "gdf.shape\n",
    "\n",
    "#Changing the number of rows displayed\n",
    "pd.set_option('display.max_rows', None)\n",
    "\n",
    "# Finding what row contains Tract 9,10,16,17 (OTR neighborhood)\n",
    "gdf.loc[gdf['name'] == 'Census Tract 9, Hamilton, OH']\n",
    "gdf.loc[gdf['name'] == 'Census Tract 10, Hamilton, OH']\n",
    "gdf.loc[gdf['name'] == 'Census Tract 16, Hamilton, OH']\n",
    "gdf.loc[gdf['name'] == 'Census Tract 17, Hamilton, OH']\n",
    "\n",
    "#Getting info about rows\n",
    "    #[0:1] - United States\n",
    "    #[[1:2] - Ohio State\n",
    "    #[[2:3] - Hamilton County\n",
    "    #[[122:123] - Cincinnati\n",
    "    #[Over-The-Rhine (OTR) Neighborhood\n",
    "    #[[5:6] - Tract 9\n",
    "    #[[6:7] - Tract 10\n",
    "    #[[8:9] - Tract 16\n",
    "    #[[9:10] - Tract 17"
   ]
  },
  {
   "cell_type": "markdown",
   "id": "af155378-da3c-49d0-a268-774fc4ace254",
   "metadata": {},
   "source": [
    "# Cleaning Data"
   ]
  },
  {
   "cell_type": "code",
   "execution_count": null,
   "id": "052aeec0-87c7-42b0-adbd-0f85c9448bdd",
   "metadata": {},
   "outputs": [],
   "source": [
    "# Columns, null values, data types\n",
    "gdf.info()\n",
    "\n",
    "\n",
    "#list columns we have\n",
    "list(gdf)\n",
    "\n",
    "\n",
    "# Create a list of columns to keep - After checking metadata file\n",
    "columns_to_keep = ['geoid',\n",
    "                   'name',\n",
    "                   'B03002001',\n",
    "                   'B03002002',\n",
    "                   'B03002003',\n",
    "                   'B03002004',\n",
    "                   'B03002005',\n",
    "                   'B03002006',\n",
    "                   'B03002007',\n",
    "                   'B03002008',\n",
    "                   'B03002012',\n",
    "                   'geometry']\n",
    "\n",
    "\n",
    "# Assign only the columns I want to keep to my dataframe\n",
    "gdf = gdf[columns_to_keep]\n",
    "\n",
    "\n",
    "#Rename the columns based on the metadata.json\n",
    "gdf.columns = ['geoid',\n",
    "               'name',\n",
    "               'Total',\n",
    "               'Not Hispanic or Latino',\n",
    "               'White alone',\n",
    "               'Black or African American alone',\n",
    "               'American Indian and Alaska Native alone',\n",
    "               'Asian alone',\n",
    "               'Native Hawaiian and Other Pacific Islander alone',\n",
    "               'Some other race alone',\n",
    "               'Hispanic or Latino',\n",
    "               'geometry']"
   ]
  },
  {
   "cell_type": "code",
   "execution_count": null,
   "id": "d08a8989-2843-4710-9e69-a1ff72cb1d0f",
   "metadata": {},
   "outputs": [],
   "source": [
    "# Want to drop almost all rows except the ones for neighborhood Over-The-Rhine and Cincinnati, \n",
    "# Hamilton County, Ohio State, United States = Tracts 9,10,16,17 = rows with index 5,6,8,9\n",
    "\n",
    "gdf.index.values\n",
    "\n",
    "\n",
    "gdf = gdf.drop([3, 4,    7,   10,  11,  12,  13,  14,  15,\n",
    "        16,  17,  18,  19,  20,  21,  22,  23,  24,  25,  26,  27,  28,\n",
    "        29,  30,  31,  32,  33,  34,  35,  36,  37,  38,  39,  40,  41,\n",
    "        42,  43,  44,  45,  46,  47,  48,  49,  50,  51,  52,  53,  54,\n",
    "        55,  56,  57,  58,  59,  60,  61,  62,  63,  64,  65,  66,  67,\n",
    "        68,  69,  70,  71,  72,  73,  74,  75,  76,  77,  78,  79,  80,\n",
    "        81,  82,  83,  84,  85,  86,  87,  88,  89,  90,  91,  92,  93,\n",
    "        94,  95,  96,  97,  98,  99, 100, 101, 102, 103, 104, 105, 106,\n",
    "       107, 108, 109, 110, 111, 112, 113, 114, 115, 116, 117, 118, 119,\n",
    "       120, 121, 123])\n"
   ]
  },
  {
   "cell_type": "markdown",
   "id": "b8a935fe-4013-4866-8a8f-889b8e8ddf1c",
   "metadata": {},
   "source": [
    "# Creating spatial visualizations"
   ]
  },
  {
   "cell_type": "code",
   "execution_count": null,
   "id": "2898b77f-b69d-4171-bf55-2fb6acfb20cd",
   "metadata": {},
   "outputs": [],
   "source": [
    "#Creating an impose plot of Ohio State over United States\n",
    "fig, ax = plt.subplots(figsize = (15,10))\n",
    "ax.set_aspect('equal')\n",
    "gdf.iloc[0:1].geometry.plot(ax=ax, marker='o', color='red', alpha = 0.5, markersize=5)\n",
    "gdf.iloc[1:2].plot(ax = ax, alpha = 0.4, color = 'blue', edgecolor = 'black')\n",
    "ax.set(title='Ohio State in United States')"
   ]
  },
  {
   "cell_type": "code",
   "execution_count": null,
   "id": "84770d03-5154-4a80-a54a-81380c8b7f58",
   "metadata": {},
   "outputs": [],
   "source": [
    "#Creating an impose plot of Hamilton County over Ohio State\n",
    "fig, ax = plt.subplots(figsize = (8,6))\n",
    "ax.set_aspect('equal')\n",
    "ax.set(title='Hamilton County in Ohio State')\n",
    "gdf.iloc[1:2].geometry.plot(ax=ax, marker='o', color='red', alpha = 0.5, markersize=5)\n",
    "gdf.iloc[2:3].plot(ax = ax, alpha = 0.4, color = 'blue', edgecolor = 'black')"
   ]
  },
  {
   "cell_type": "code",
   "execution_count": null,
   "id": "f31c0405-c7e4-4e86-a3c3-74def82ea22e",
   "metadata": {},
   "outputs": [],
   "source": [
    "#Creating an impose plot of Cincinnati over Hamilton County\n",
    "fig, ax = plt.subplots(figsize = (8,6))\n",
    "ax.set_aspect('equal')\n",
    "gdf.iloc[2:3].geometry.plot(ax=ax, marker='o', color='green', alpha = 0.5, markersize=5)\n",
    "gdf.iloc[7:8].plot(ax = ax, alpha = 0.4, color = 'black', edgecolor = 'black')\n",
    "ax.set(title='Cincinnati in Hamilton County')"
   ]
  },
  {
   "cell_type": "code",
   "execution_count": null,
   "id": "c6bd4be4-98dd-4148-b3e3-448aa7898ae3",
   "metadata": {},
   "outputs": [],
   "source": [
    "#Creating an impose plot of OTR over Cincinnati\n",
    "fig, ax = plt.subplots(figsize = (8,6))\n",
    "ax.set_aspect('equal')\n",
    "\n",
    "gdf.iloc[7:8].plot(ax = ax, alpha = 0.4, color = 'grey', edgecolor = 'black')\n",
    "gdf.iloc[3:7].geometry.plot(ax=ax, marker='o', color='red', alpha = 0.5, markersize=5)\n",
    "ax.set(title='OTR in Cincinnati')"
   ]
  },
  {
   "cell_type": "markdown",
   "id": "65d50ec6-6175-4e91-b338-6ff621980ea1",
   "metadata": {},
   "source": [
    "# Spatial visualizations of OTR"
   ]
  },
  {
   "cell_type": "code",
   "execution_count": null,
   "id": "04b87d91-8574-45f7-beaa-21c44ace8b14",
   "metadata": {},
   "outputs": [],
   "source": [
    "# A plot showing different color by population size\n",
    "\n",
    "fig, ax = plt.subplots(1,3, figsize= (15,4))\n",
    "\n",
    "ax1, ax2, ax3 = ax\n",
    "ax1 = gdf.iloc[3:7].plot(column='Total', cmap='Oranges',ax = ax1, legend= True)\n",
    "ax1.set_title('Census Tracts Population', fontsize = 14) \n",
    "\n",
    "ax2 = gdf.iloc[3:7].plot(column=('White alone'), ax = ax2, cmap='Oranges',legend= True)\n",
    "ax2.set_title('White Population in OTR', fontsize = 14) \n",
    "\n",
    "ax3 = gdf.iloc[3:7].plot(ax = ax3, column=('Black or African American alone'), cmap='Oranges',legend= True)\n",
    "ax3.set_title('Black Population in OTR', fontsize = 14) \n",
    "\n",
    "\n",
    "# Investigate about creating one uniform legend"
   ]
  },
  {
   "cell_type": "code",
   "execution_count": null,
   "id": "50e76aa0-1606-4672-8427-628a665081bc",
   "metadata": {
    "tags": []
   },
   "outputs": [],
   "source": [
    "#Create two columns with percentages of White and Black population\n",
    "gdf['Percent white'] = gdf['White alone']/gdf['Total']*100\n",
    "gdf['Percent Black'] = gdf['Black or African American alone']/gdf['Total']*100\n",
    "\n",
    "#Display dataframe\n",
    "#display(gdf.loc[10:11])\n",
    "\n",
    "\n",
    "#Quantile intervals visualization\n",
    "fig, (ax1, ax2) = plt.subplots(1,2, figsize=(15,15))\n",
    "\n",
    "gdf.iloc[3:7].plot(column = 'Percent white', ax = ax1, cmap = \"Blues\", legend = True, scheme ='quantiles',k=4,\n",
    "                   edgecolor='white', linewidth=0., alpha= 0.75,)\n",
    "ax1.set_title('Quartile Intervals White Population', fontsize = 14) \n",
    "\n",
    "\n",
    "gdf.iloc[3:7].plot(column = 'Percent Black', ax = ax2,cmap = \"Blues\", scheme='quantiles', k=4, \n",
    "                   edgecolor='white', linewidth=0., alpha= 0.75,legend=True)\n",
    "ax2.set_title('Quartile Intervals Black Population', fontsize = 14) \n"
   ]
  },
  {
   "cell_type": "code",
   "execution_count": null,
   "id": "26a2348b-1ec4-4a7a-8dc5-fea9967540be",
   "metadata": {},
   "outputs": [],
   "source": [
    "# Creating plots adding basemaps\n",
    "\n",
    "gdf_web_mercator = gdf.to_crs(epsg=3857)\n",
    "\n",
    "fig, ax = plt.subplots(1,3, figsize=(30,8))\n",
    "ax1, ax2, ax3 = ax\n",
    "\n",
    "gdf_web_mercator.iloc[3:7][gdf_web_mercator['Percent white'] > 50].plot(figsize = (25,10), ax=ax1, alpha=0.8)\n",
    "ax1.axis('off')\n",
    "ax1.set_title('Census tracts with more than 50% white', fontsize = 22)\n",
    "\n",
    "gdf_web_mercator.iloc[3:7][gdf_web_mercator['Percent Black'] > 50].plot(figsize = (25,10),ax=ax2, alpha=0.9)\n",
    "ax2.axis('off')\n",
    "ax2.set_title('Census tracts with more than 50% black', fontsize = 22)\n",
    "\n",
    "ax3 = gdf_web_mercator.iloc[3:7].plot( column = 'Percent white',alpha=0.8, ax=ax3,cmap='Blues', legend=True,)\n",
    "ax3.axis('off')\n",
    "ax3.set_title('White percentage of census tracts', fontsize = 22)\n",
    "\n",
    "\n",
    "ctx.add_basemap(ax1, zoom=16)\n",
    "ctx.add_basemap(ax2, zoom=16)\n",
    "ctx.add_basemap(ax3, zoom=16)\n",
    "\n",
    "#Investigate about creating plot 2 + 1"
   ]
  },
  {
   "cell_type": "markdown",
   "id": "d00af03f-f0d3-42c7-9c23-676735741e8d",
   "metadata": {},
   "source": [
    "# Graphs"
   ]
  },
  {
   "cell_type": "code",
   "execution_count": null,
   "id": "b6de23ff-5e54-4af7-bf04-da1dfc43cee5",
   "metadata": {},
   "outputs": [],
   "source": [
    "#Create a bar graph\n",
    "\n",
    "x= list(gdf.iloc[3:7]['name'])\n",
    "display(x)\n",
    "y = list(gdf.iloc[3:7]['Total'])\n",
    "display(y)\n",
    "\n",
    "plt.title(label = \"Total Population of OTR\")\n",
    "plt.barh(x, y)\n",
    "plt.figure(figsize=(10,5))\n",
    "plt.show()"
   ]
  },
  {
   "cell_type": "code",
   "execution_count": null,
   "id": "1e0f9266-2563-44fe-a0b5-5f188e1288d3",
   "metadata": {},
   "outputs": [],
   "source": [
    "#Same bar graph sorted\n",
    "\n",
    "gdf_sorted = gdf.sort_values(by= 'Total', ascending = True)\n",
    "x= list(gdf_sorted.iloc[0:4]['name'])\n",
    "display(x)\n",
    "y = list(gdf_sorted.iloc[0:4]['Total'])\n",
    "display(y)\n",
    "\n",
    "plt.title(label = \"Total Population of OTR\")\n",
    "plt.barh(x,y)\n",
    "plt.figure(figsize=(15,12))\n",
    "plt.show()"
   ]
  },
  {
   "cell_type": "code",
   "execution_count": null,
   "id": "9568d79c-8545-498c-9bf3-a335292263c2",
   "metadata": {},
   "outputs": [],
   "source": []
  },
  {
   "cell_type": "code",
   "execution_count": null,
   "id": "091f462a-4fd3-4665-987e-42e3e62a3217",
   "metadata": {},
   "outputs": [],
   "source": [
    "#Importing pickle files\n",
    "\n",
    "pdf1950 = pd.read_pickle('pdf1950.pkl')\n",
    "pdf1960 = pd.read_pickle('pdf1960.pkl')\n",
    "pdf1970 = pd.read_pickle('pdf1970.pkl')\n",
    "pdf1980 = pd.read_pickle('pdf1980.pkl')\n",
    "pdf1990 = pd.read_pickle('pdf1990.pkl')\n",
    "pdf2000 = pd.read_pickle('pdf2000.pkl')\n",
    "pdf2010 = pd.read_pickle('pdf2010.pkl')\n",
    "pdf2020 = pd.read_pickle('pdf2020.pkl')"
   ]
  },
  {
   "cell_type": "code",
   "execution_count": null,
   "id": "1b5e1d97-3618-40a1-a940-dd210241eddb",
   "metadata": {},
   "outputs": [],
   "source": [
    "pdf1950"
   ]
  },
  {
   "cell_type": "code",
   "execution_count": null,
   "id": "de055702-c631-4bf5-90a8-d8c7c3e029f2",
   "metadata": {},
   "outputs": [],
   "source": [
    "#creating a dataframe for white population\n",
    "\n",
    "# Create an empty list\n",
    "White_1950_list =[]\n",
    "White_1960_list =[]\n",
    "White_1970_list =[]\n",
    "White_1980_list =[]\n",
    "White_1990_list =[]\n",
    "White_2000_list =[]\n",
    "White_2010_list =[]\n",
    "White_2020_list =[]\n",
    "  \n",
    "    \n",
    "# iterate over the rows\n",
    "for i, row in pdf1950.iloc[1:2].iterrows():\n",
    "    # create a list representing the dataframe row\n",
    "    White_1950_rows = [row['Census Tract 9, Hamilton County, Ohio'], row['Census Tract 10, Hamilton County, Ohio'],\n",
    "                       row['Census Tract 16, Hamilton County, Ohio'], row['Census Tract 17, Hamilton County, Ohio'],\n",
    "                       row['TOTAL (All Selected Census Tracts)']]\n",
    "    \n",
    "for i, row in pdf1960.iloc[1:2].iterrows():\n",
    "    # create a list representing the dataframe row\n",
    "    White_1960_rows = [row['Census Tract 9, Hamilton County, Ohio'], row['Census Tract 10, Hamilton County, Ohio'],\n",
    "                       row['Census Tract 16, Hamilton County, Ohio'], row['Census Tract 17, Hamilton County, Ohio'],\n",
    "                       row['TOTAL (All Selected Census Tracts)']]\n",
    "    \n",
    "for i, row in pdf1970.iloc[1:2].iterrows():\n",
    "    # create a list representing the dataframe row\n",
    "    White_1970_rows = [row['Census Tract 9, Hamilton County, Ohio'], row['Census Tract 10, Hamilton County, Ohio'],\n",
    "                       row['Census Tract 16, Hamilton County, Ohio'], row['Census Tract 17, Hamilton County, Ohio'],\n",
    "                       row['TOTAL (All Selected Census Tracts)']]\n",
    "\n",
    "for i, row in pdf1980.iloc[1:2].iterrows():\n",
    "    # create a list representing the dataframe row\n",
    "    White_1980_rows = [row['Census Tract 9, Hamilton County, Ohio'], row['Census Tract 10, Hamilton County, Ohio'],\n",
    "                       row['Census Tract 16, Hamilton County, Ohio'], row['Census Tract 17, Hamilton County, Ohio'],\n",
    "                       row['TOTAL (All Selected Census Tracts)']]\n",
    "\n",
    "for i, row in pdf1990.iloc[1:2].iterrows():\n",
    "    # create a list representing the dataframe row\n",
    "    White_1990_rows = [row['Census Tract 9, Hamilton County, Ohio'], row['Census Tract 10, Hamilton County, Ohio'],\n",
    "                       row['Census Tract 16, Hamilton County, Ohio'], row['Census Tract 17, Hamilton County, Ohio'],\n",
    "                       row['TOTAL (All Selected Census Tracts)']]\n",
    "    \n",
    "for i, row in pdf2000.iloc[1:2].iterrows():\n",
    "    # create a list representing the dataframe row\n",
    "    White_2000_rows = [row['Census Tract 9, Hamilton County, Ohio'], row['Census Tract 10, Hamilton County, Ohio'],\n",
    "                       row['Census Tract 16, Hamilton County, Ohio'], row['Census Tract 17, Hamilton County, Ohio'],\n",
    "                       row['TOTAL (All Selected Census Tracts)']]\n",
    "    \n",
    "for i, row in pdf2010.iloc[1:2].iterrows():\n",
    "    # create a list representing the dataframe row\n",
    "    White_2010_rows = [row['Census Tract 9, Hamilton County, Ohio'], row['Census Tract 10, Hamilton County, Ohio'],\n",
    "                       row['Census Tract 16, Hamilton County, Ohio'], row['Census Tract 17, Hamilton County, Ohio'],\n",
    "                       row['TOTAL (All Selected Census Tracts)']]\n",
    "    \n",
    "for i, row in pdf2020.iloc[1:2].iterrows():\n",
    "    # create a list representing the dataframe row\n",
    "    White_2020_rows = [row['Census Tract 9 Total'], row['Census Tract 10 Total'],\n",
    "                       row['Census Tract 16 Total'], row['Census Tract 17 Total'],\n",
    "                       row['TOTAL (All Selected Census Tracts)']]\n",
    "    \n",
    "\n",
    "# append row list to ls\n",
    "White_1950_list.append(White_1950_rows)\n",
    "White_1960_list.append(White_1960_rows)\n",
    "White_1970_list.append(White_1970_rows)\n",
    "White_1980_list.append(White_1980_rows)\n",
    "White_1990_list.append(White_1990_rows)\n",
    "White_2000_list.append(White_2000_rows)\n",
    "White_2010_list.append(White_2010_rows)\n",
    "White_2020_list.append(White_2020_rows)\n",
    "\n",
    "\n",
    "#creating df\n",
    "#Category = ['Census Tract 9', 'Census Tract 10', 'Census Tract 16', 'Census Tract 17', 'Total OTR']\n",
    "data = [['Census Tract 9', 7474.0], ['Census Tract 10', 5752.0], ['Census Tract 16', 5849.0], ['Census Tract 17', 6207.0], ['Total OTR', 25282.0]]\n",
    "#data1 = [[*Category[0],White_1960_list[0]], [*Category[1], White_1960_list[1]]]\n",
    "\n",
    "\n",
    "Wdf = pd.DataFrame(data, columns=['Category', '1950'])\n",
    "Wdf\n",
    "        \n",
    "    \n",
    "  "
   ]
  },
  {
   "cell_type": "code",
   "execution_count": null,
   "id": "38af6680-3bce-4275-ae61-1a82c21f7e2f",
   "metadata": {},
   "outputs": [],
   "source": [
    "my_list = [10, 11, 12, 13, 14]\n",
    "i = [1, 4]\n",
    "element = []\n",
    "for index in i:\n",
    "    element.append(my_list[index])\n",
    "print(element)"
   ]
  },
  {
   "cell_type": "code",
   "execution_count": null,
   "id": "88a1a3f0-c689-480e-8c8c-15db077e5629",
   "metadata": {},
   "outputs": [],
   "source": []
  },
  {
   "cell_type": "code",
   "execution_count": null,
   "id": "45564ece-2246-4c0f-a19a-dd6ef0b7ec7b",
   "metadata": {},
   "outputs": [],
   "source": []
  },
  {
   "cell_type": "code",
   "execution_count": null,
   "id": "50648d75-241d-414c-891a-707b13152d98",
   "metadata": {},
   "outputs": [],
   "source": [
    "myList = White_1980_list\n",
    "myList = [item[0].split(\",\") for item in myList]\n",
    "print(myList)"
   ]
  },
  {
   "cell_type": "code",
   "execution_count": null,
   "id": "00e9b0dd-784f-4ac8-86d8-5a911432af61",
   "metadata": {},
   "outputs": [],
   "source": [
    "White_1980_list = [ item for elem in White_1980_list for item in elem]"
   ]
  },
  {
   "cell_type": "code",
   "execution_count": null,
   "id": "091c0112-5d23-4e60-9c32-cf7798ea1456",
   "metadata": {},
   "outputs": [],
   "source": [
    "len(White_1980_list)"
   ]
  },
  {
   "cell_type": "markdown",
   "id": "dc493dd3-85bb-4071-a66b-ef679b44bad9",
   "metadata": {},
   "source": [
    "# Stats"
   ]
  },
  {
   "cell_type": "code",
   "execution_count": null,
   "id": "7a227e5b-8146-4ea4-98e4-7d805b3f8017",
   "metadata": {},
   "outputs": [],
   "source": [
    "#Obtaining some stats\n",
    "\n",
    "#What is the total population of OTR\n",
    "gdf.iloc[3:7]['Total'].sum()\n",
    "print('The total population of OTR is: ' + str(gdf.iloc[3:7]['Total'].sum()))\n",
    "\n",
    "#What is the mean\n",
    "gdf.iloc[3:7]['Total'].mean()\n",
    "\n",
    "#What is the median\n",
    "gdf.iloc[3:7]['Total'].median()\n",
    "\n",
    "#Get some more stats\n",
    "gdf.iloc[3:7]['Total'].describe()"
   ]
  },
  {
   "cell_type": "code",
   "execution_count": null,
   "id": "fd0a70ea-0293-49af-9af3-859c42088330",
   "metadata": {},
   "outputs": [],
   "source": []
  }
 ],
 "metadata": {
  "kernelspec": {
   "display_name": "Python 3 (ipykernel)",
   "language": "python",
   "name": "python3"
  },
  "language_info": {
   "codemirror_mode": {
    "name": "ipython",
    "version": 3
   },
   "file_extension": ".py",
   "mimetype": "text/x-python",
   "name": "python",
   "nbconvert_exporter": "python",
   "pygments_lexer": "ipython3",
   "version": "3.8.13"
  }
 },
 "nbformat": 4,
 "nbformat_minor": 5
}
