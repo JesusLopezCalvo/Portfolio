{
 "cells": [
  {
   "cell_type": "markdown",
   "id": "c9a323e5-8ab6-4181-92b3-51513ff22932",
   "metadata": {},
   "source": [
    "# Importing needed libraries"
   ]
  },
  {
   "cell_type": "code",
   "execution_count": 1,
   "id": "995538c7-76ef-432f-9e5c-b67e5b5431d3",
   "metadata": {},
   "outputs": [],
   "source": [
    "import pandas as pd\n",
    "import matplotlib.pyplot as plt\n",
    "import openpyxl\n",
    "import numpy as np"
   ]
  },
  {
   "cell_type": "markdown",
   "id": "2591a02d-3e42-48d9-bc88-d8a9f8de737a",
   "metadata": {},
   "source": [
    "# Importing Data"
   ]
  },
  {
   "cell_type": "code",
   "execution_count": 2,
   "id": "428fef43-9c88-4212-9009-dd6c6de49151",
   "metadata": {},
   "outputs": [],
   "source": [
    "#Importing data\n",
    "df_inc_2000 = pd.read_excel('./../Data sets/2000 income.xlsx')\n",
    "df_inc_2010 = pd.read_excel('./../Data sets/2010 income.xlsx')\n",
    "df_inc_2020 = pd.read_excel('./../Data sets/2020 income.xlsx')"
   ]
  },
  {
   "cell_type": "code",
   "execution_count": 3,
   "id": "9d3c1565-6a90-4015-b640-a425df542a54",
   "metadata": {},
   "outputs": [],
   "source": [
    "#Changing the number of rows displayed\n",
    "pd.set_option('display.max_rows', None)"
   ]
  },
  {
   "cell_type": "code",
   "execution_count": 4,
   "id": "e9b29f79-731c-434a-b486-b6f98765f8a3",
   "metadata": {},
   "outputs": [],
   "source": [
    "# Creating a dataframe for median income for year 2000, 2010, 2020\n",
    "df_inc_2000 = df_inc_2000.iloc[38:41]\n",
    "df_inc_2010 = df_inc_2010.iloc[33:36]\n",
    "df_inc_2020 = df_inc_2020.iloc[33:36]\n",
    "\n",
    "#Renaming columns\n",
    "df_inc_2000.columns = ['Category',\n",
    "                   'Census Tract 9, Hamilton County, Ohio',\n",
    "                   'Census Tract 10, Hamilton County, Ohio',\n",
    "                   'Census Tract 16, Hamilton County, Ohio',\n",
    "                   'Census Tract 17, Hamilton County, Ohio',\n",
    "                   'TOTAL (All Selected Census Tracts)']\n",
    "\n",
    "df_inc_2010.columns = ['Category',\n",
    "                   'Census Tract 9, Hamilton County, Ohio',\n",
    "                   'Census Tract 10, Hamilton County, Ohio',\n",
    "                   'Census Tract 16, Hamilton County, Ohio',\n",
    "                   'Census Tract 17, Hamilton County, Ohio',\n",
    "                   'TOTAL (All Selected Census Tracts)']\n",
    "\n",
    "df_inc_2020.columns = ['Category',\n",
    "                   'Census Tract 9, Hamilton County, Ohio',\n",
    "                   'Census Tract 10, Hamilton County, Ohio',\n",
    "                   'Census Tract 16, Hamilton County, Ohio',\n",
    "                   'Census Tract 17, Hamilton County, Ohio',\n",
    "                   'TOTAL (All Selected Census Tracts)']\n",
    "df_inc_2020 = df_inc_2020.fillna(0)"
   ]
  },
  {
   "cell_type": "code",
   "execution_count": 5,
   "id": "813b4d66-0456-4f7f-b0be-34d11bdcb440",
   "metadata": {},
   "outputs": [],
   "source": [
    "df_inc_2000.to_pickle('df_inc_2000.pkl')\n",
    "df_inc_2010.to_pickle('df_inc_2010.pkl')\n",
    "df_inc_2020.to_pickle('df_inc_2020.pkl')"
   ]
  },
  {
   "cell_type": "code",
   "execution_count": 6,
   "id": "3db42f34-6c81-4628-9daf-40ca80fc0337",
   "metadata": {
    "tags": []
   },
   "outputs": [
    {
     "data": {
      "text/html": [
       "<div>\n",
       "<style scoped>\n",
       "    .dataframe tbody tr th:only-of-type {\n",
       "        vertical-align: middle;\n",
       "    }\n",
       "\n",
       "    .dataframe tbody tr th {\n",
       "        vertical-align: top;\n",
       "    }\n",
       "\n",
       "    .dataframe thead th {\n",
       "        text-align: right;\n",
       "    }\n",
       "</style>\n",
       "<table border=\"1\" class=\"dataframe\">\n",
       "  <thead>\n",
       "    <tr style=\"text-align: right;\">\n",
       "      <th></th>\n",
       "      <th>Category</th>\n",
       "      <th>Census Tract 9, Hamilton County, Ohio</th>\n",
       "      <th>Census Tract 10, Hamilton County, Ohio</th>\n",
       "      <th>Census Tract 16, Hamilton County, Ohio</th>\n",
       "      <th>Census Tract 17, Hamilton County, Ohio</th>\n",
       "      <th>TOTAL (All Selected Census Tracts)</th>\n",
       "    </tr>\n",
       "  </thead>\n",
       "  <tbody>\n",
       "    <tr>\n",
       "      <th>38</th>\n",
       "      <td>Median household income In 1999 Dollars:</td>\n",
       "      <td>$6,972</td>\n",
       "      <td>$14,539</td>\n",
       "      <td>$8,175</td>\n",
       "      <td>$8,511</td>\n",
       "      <td>$9,369</td>\n",
       "    </tr>\n",
       "    <tr>\n",
       "      <th>39</th>\n",
       "      <td>White Alone Householder</td>\n",
       "      <td>$9,267</td>\n",
       "      <td>$31,250</td>\n",
       "      <td>$12,750</td>\n",
       "      <td>$15,625</td>\n",
       "      <td>$14,522</td>\n",
       "    </tr>\n",
       "    <tr>\n",
       "      <th>40</th>\n",
       "      <td>Black or African American Alone Householder</td>\n",
       "      <td>$5,877</td>\n",
       "      <td>$11,681</td>\n",
       "      <td>$8,214</td>\n",
       "      <td>$7,266</td>\n",
       "      <td>$8,387</td>\n",
       "    </tr>\n",
       "  </tbody>\n",
       "</table>\n",
       "</div>"
      ],
      "text/plain": [
       "                                       Category  \\\n",
       "38     Median household income In 1999 Dollars:   \n",
       "39                      White Alone Householder   \n",
       "40  Black or African American Alone Householder   \n",
       "\n",
       "   Census Tract 9, Hamilton County, Ohio  \\\n",
       "38                                $6,972   \n",
       "39                                $9,267   \n",
       "40                                $5,877   \n",
       "\n",
       "   Census Tract 10, Hamilton County, Ohio  \\\n",
       "38                                $14,539   \n",
       "39                                $31,250   \n",
       "40                                $11,681   \n",
       "\n",
       "   Census Tract 16, Hamilton County, Ohio  \\\n",
       "38                                 $8,175   \n",
       "39                                $12,750   \n",
       "40                                 $8,214   \n",
       "\n",
       "   Census Tract 17, Hamilton County, Ohio TOTAL (All Selected Census Tracts)  \n",
       "38                                 $8,511                             $9,369  \n",
       "39                                $15,625                            $14,522  \n",
       "40                                 $7,266                             $8,387  "
      ]
     },
     "execution_count": 6,
     "metadata": {},
     "output_type": "execute_result"
    }
   ],
   "source": [
    "df_inc_2000"
   ]
  },
  {
   "cell_type": "code",
   "execution_count": 7,
   "id": "f148173b-a649-42ea-a714-3f0b327937b8",
   "metadata": {
    "tags": []
   },
   "outputs": [
    {
     "data": {
      "text/html": [
       "<div>\n",
       "<style scoped>\n",
       "    .dataframe tbody tr th:only-of-type {\n",
       "        vertical-align: middle;\n",
       "    }\n",
       "\n",
       "    .dataframe tbody tr th {\n",
       "        vertical-align: top;\n",
       "    }\n",
       "\n",
       "    .dataframe thead th {\n",
       "        text-align: right;\n",
       "    }\n",
       "</style>\n",
       "<table border=\"1\" class=\"dataframe\">\n",
       "  <thead>\n",
       "    <tr style=\"text-align: right;\">\n",
       "      <th></th>\n",
       "      <th>Category</th>\n",
       "      <th>Census Tract 9, Hamilton County, Ohio</th>\n",
       "      <th>Census Tract 10, Hamilton County, Ohio</th>\n",
       "      <th>Census Tract 16, Hamilton County, Ohio</th>\n",
       "      <th>Census Tract 17, Hamilton County, Ohio</th>\n",
       "      <th>TOTAL (All Selected Census Tracts)</th>\n",
       "    </tr>\n",
       "  </thead>\n",
       "  <tbody>\n",
       "    <tr>\n",
       "      <th>33</th>\n",
       "      <td>Median Household Income (In 2010 Inflation Adj...</td>\n",
       "      <td>$16,736</td>\n",
       "      <td>$23,864</td>\n",
       "      <td>$7,449</td>\n",
       "      <td>$10,091</td>\n",
       "      <td>$13,283</td>\n",
       "    </tr>\n",
       "    <tr>\n",
       "      <th>34</th>\n",
       "      <td>White Alone Householder</td>\n",
       "      <td>$79,519</td>\n",
       "      <td>$61,250</td>\n",
       "      <td>$105,536</td>\n",
       "      <td>$44,375</td>\n",
       "      <td>$64,786</td>\n",
       "    </tr>\n",
       "    <tr>\n",
       "      <th>35</th>\n",
       "      <td>Black or African American Alone Householder</td>\n",
       "      <td>$15,278</td>\n",
       "      <td>$12,361</td>\n",
       "      <td>$6,583</td>\n",
       "      <td>$8,309</td>\n",
       "      <td>$10,141</td>\n",
       "    </tr>\n",
       "  </tbody>\n",
       "</table>\n",
       "</div>"
      ],
      "text/plain": [
       "                                             Category  \\\n",
       "33  Median Household Income (In 2010 Inflation Adj...   \n",
       "34                            White Alone Householder   \n",
       "35        Black or African American Alone Householder   \n",
       "\n",
       "   Census Tract 9, Hamilton County, Ohio  \\\n",
       "33                               $16,736   \n",
       "34                               $79,519   \n",
       "35                               $15,278   \n",
       "\n",
       "   Census Tract 10, Hamilton County, Ohio  \\\n",
       "33                                $23,864   \n",
       "34                                $61,250   \n",
       "35                                $12,361   \n",
       "\n",
       "   Census Tract 16, Hamilton County, Ohio  \\\n",
       "33                                 $7,449   \n",
       "34                               $105,536   \n",
       "35                                 $6,583   \n",
       "\n",
       "   Census Tract 17, Hamilton County, Ohio TOTAL (All Selected Census Tracts)  \n",
       "33                                $10,091                            $13,283  \n",
       "34                                $44,375                            $64,786  \n",
       "35                                 $8,309                            $10,141  "
      ]
     },
     "execution_count": 7,
     "metadata": {},
     "output_type": "execute_result"
    }
   ],
   "source": [
    "df_inc_2010"
   ]
  },
  {
   "cell_type": "code",
   "execution_count": 8,
   "id": "88432cd2-d7d5-4b98-8f98-cf8537fb2633",
   "metadata": {},
   "outputs": [
    {
     "data": {
      "text/html": [
       "<div>\n",
       "<style scoped>\n",
       "    .dataframe tbody tr th:only-of-type {\n",
       "        vertical-align: middle;\n",
       "    }\n",
       "\n",
       "    .dataframe tbody tr th {\n",
       "        vertical-align: top;\n",
       "    }\n",
       "\n",
       "    .dataframe thead th {\n",
       "        text-align: right;\n",
       "    }\n",
       "</style>\n",
       "<table border=\"1\" class=\"dataframe\">\n",
       "  <thead>\n",
       "    <tr style=\"text-align: right;\">\n",
       "      <th></th>\n",
       "      <th>Category</th>\n",
       "      <th>Census Tract 9, Hamilton County, Ohio</th>\n",
       "      <th>Census Tract 10, Hamilton County, Ohio</th>\n",
       "      <th>Census Tract 16, Hamilton County, Ohio</th>\n",
       "      <th>Census Tract 17, Hamilton County, Ohio</th>\n",
       "      <th>TOTAL (All Selected Census Tracts)</th>\n",
       "    </tr>\n",
       "  </thead>\n",
       "  <tbody>\n",
       "    <tr>\n",
       "      <th>33</th>\n",
       "      <td>Median Household Income (In 2020 Inflation Adj...</td>\n",
       "      <td>$81,406</td>\n",
       "      <td>$74,514</td>\n",
       "      <td>$25,159</td>\n",
       "      <td>$57,708</td>\n",
       "      <td>$60,119</td>\n",
       "    </tr>\n",
       "    <tr>\n",
       "      <th>34</th>\n",
       "      <td>White Alone Householder</td>\n",
       "      <td>$101,953</td>\n",
       "      <td>$85,524</td>\n",
       "      <td>$62,273</td>\n",
       "      <td>$102,333</td>\n",
       "      <td>$96,179</td>\n",
       "    </tr>\n",
       "    <tr>\n",
       "      <th>35</th>\n",
       "      <td>Black or African American Alone Householder</td>\n",
       "      <td>$22,593</td>\n",
       "      <td>0</td>\n",
       "      <td>$19,167</td>\n",
       "      <td>$16,855</td>\n",
       "      <td>$20,453</td>\n",
       "    </tr>\n",
       "  </tbody>\n",
       "</table>\n",
       "</div>"
      ],
      "text/plain": [
       "                                             Category  \\\n",
       "33  Median Household Income (In 2020 Inflation Adj...   \n",
       "34                            White Alone Householder   \n",
       "35        Black or African American Alone Householder   \n",
       "\n",
       "   Census Tract 9, Hamilton County, Ohio  \\\n",
       "33                               $81,406   \n",
       "34                              $101,953   \n",
       "35                               $22,593   \n",
       "\n",
       "   Census Tract 10, Hamilton County, Ohio  \\\n",
       "33                                $74,514   \n",
       "34                                $85,524   \n",
       "35                                      0   \n",
       "\n",
       "   Census Tract 16, Hamilton County, Ohio  \\\n",
       "33                                $25,159   \n",
       "34                                $62,273   \n",
       "35                                $19,167   \n",
       "\n",
       "   Census Tract 17, Hamilton County, Ohio TOTAL (All Selected Census Tracts)  \n",
       "33                                $57,708                            $60,119  \n",
       "34                               $102,333                            $96,179  \n",
       "35                                $16,855                            $20,453  "
      ]
     },
     "execution_count": 8,
     "metadata": {},
     "output_type": "execute_result"
    }
   ],
   "source": [
    "df_inc_2020"
   ]
  }
 ],
 "metadata": {
  "kernelspec": {
   "display_name": "Python 3 (ipykernel)",
   "language": "python",
   "name": "python3"
  },
  "language_info": {
   "codemirror_mode": {
    "name": "ipython",
    "version": 3
   },
   "file_extension": ".py",
   "mimetype": "text/x-python",
   "name": "python",
   "nbconvert_exporter": "python",
   "pygments_lexer": "ipython3",
   "version": "3.8.13"
  }
 },
 "nbformat": 4,
 "nbformat_minor": 5
}
