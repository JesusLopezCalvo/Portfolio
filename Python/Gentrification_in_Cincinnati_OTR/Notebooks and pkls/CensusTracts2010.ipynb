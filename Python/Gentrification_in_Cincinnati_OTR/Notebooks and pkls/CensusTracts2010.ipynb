{
 "cells": [
  {
   "cell_type": "markdown",
   "id": "38ffe10c-ab1f-4d65-9839-37bae2a9d3e9",
   "metadata": {},
   "source": [
    "# Importing needed libraries"
   ]
  },
  {
   "cell_type": "code",
   "execution_count": 1,
   "id": "4183bd20-f5ab-4117-a2b6-c1953f37e232",
   "metadata": {},
   "outputs": [],
   "source": [
    "import pandas as pd\n",
    "import matplotlib.pyplot as plt\n",
    "import openpyxl\n",
    "import numpy as np"
   ]
  },
  {
   "cell_type": "markdown",
   "id": "38368ec7-cbb6-4df4-8537-8b6f6ed22d51",
   "metadata": {},
   "source": [
    "# Importing Data\n"
   ]
  },
  {
   "cell_type": "code",
   "execution_count": 13,
   "id": "4c1beb28-3f31-4b65-bf6e-f32360ccecef",
   "metadata": {},
   "outputs": [],
   "source": [
    "#Importing data\n",
    "pdf2010 = pd.read_excel('./../Data sets/Census 2010.xlsx')"
   ]
  },
  {
   "cell_type": "code",
   "execution_count": 14,
   "id": "ff6903e7-e940-4564-8e94-fc23f01259cd",
   "metadata": {},
   "outputs": [
    {
     "data": {
      "text/html": [
       "<div>\n",
       "<style scoped>\n",
       "    .dataframe tbody tr th:only-of-type {\n",
       "        vertical-align: middle;\n",
       "    }\n",
       "\n",
       "    .dataframe tbody tr th {\n",
       "        vertical-align: top;\n",
       "    }\n",
       "\n",
       "    .dataframe thead th {\n",
       "        text-align: right;\n",
       "    }\n",
       "</style>\n",
       "<table border=\"1\" class=\"dataframe\">\n",
       "  <thead>\n",
       "    <tr style=\"text-align: right;\">\n",
       "      <th></th>\n",
       "      <th>Unnamed: 0</th>\n",
       "      <th>Social Explorer - Census 2010</th>\n",
       "      <th>Unnamed: 2</th>\n",
       "      <th>Unnamed: 3</th>\n",
       "      <th>Unnamed: 4</th>\n",
       "      <th>Unnamed: 5</th>\n",
       "      <th>Unnamed: 6</th>\n",
       "      <th>Unnamed: 7</th>\n",
       "      <th>Unnamed: 8</th>\n",
       "      <th>Unnamed: 9</th>\n",
       "      <th>Unnamed: 10</th>\n",
       "    </tr>\n",
       "  </thead>\n",
       "  <tbody>\n",
       "    <tr>\n",
       "      <th>0</th>\n",
       "      <td>Statistics</td>\n",
       "      <td>Census Tract 9, Hamilton County, Ohio</td>\n",
       "      <td>NaN</td>\n",
       "      <td>Census Tract 10, Hamilton County, Ohio</td>\n",
       "      <td>NaN</td>\n",
       "      <td>Census Tract 16, Hamilton County, Ohio</td>\n",
       "      <td>NaN</td>\n",
       "      <td>Census Tract 17, Hamilton County, Ohio</td>\n",
       "      <td>NaN</td>\n",
       "      <td>TOTAL (All Selected Census Tracts)</td>\n",
       "      <td>NaN</td>\n",
       "    </tr>\n",
       "    <tr>\n",
       "      <th>1</th>\n",
       "      <td>NaN</td>\n",
       "      <td>NaN</td>\n",
       "      <td>NaN</td>\n",
       "      <td>NaN</td>\n",
       "      <td>NaN</td>\n",
       "      <td>NaN</td>\n",
       "      <td>NaN</td>\n",
       "      <td>NaN</td>\n",
       "      <td>NaN</td>\n",
       "      <td>NaN</td>\n",
       "      <td>NaN</td>\n",
       "    </tr>\n",
       "    <tr>\n",
       "      <th>2</th>\n",
       "      <td>SE:T1. Total Population</td>\n",
       "      <td>NaN</td>\n",
       "      <td>NaN</td>\n",
       "      <td>NaN</td>\n",
       "      <td>NaN</td>\n",
       "      <td>NaN</td>\n",
       "      <td>NaN</td>\n",
       "      <td>NaN</td>\n",
       "      <td>NaN</td>\n",
       "      <td>NaN</td>\n",
       "      <td>NaN</td>\n",
       "    </tr>\n",
       "    <tr>\n",
       "      <th>3</th>\n",
       "      <td>Total Population</td>\n",
       "      <td>1652</td>\n",
       "      <td>NaN</td>\n",
       "      <td>1437</td>\n",
       "      <td>NaN</td>\n",
       "      <td>1487</td>\n",
       "      <td>NaN</td>\n",
       "      <td>1488</td>\n",
       "      <td>NaN</td>\n",
       "      <td>6064</td>\n",
       "      <td>NaN</td>\n",
       "    </tr>\n",
       "    <tr>\n",
       "      <th>4</th>\n",
       "      <td>NaN</td>\n",
       "      <td>NaN</td>\n",
       "      <td>NaN</td>\n",
       "      <td>NaN</td>\n",
       "      <td>NaN</td>\n",
       "      <td>NaN</td>\n",
       "      <td>NaN</td>\n",
       "      <td>NaN</td>\n",
       "      <td>NaN</td>\n",
       "      <td>NaN</td>\n",
       "      <td>NaN</td>\n",
       "    </tr>\n",
       "  </tbody>\n",
       "</table>\n",
       "</div>"
      ],
      "text/plain": [
       "                Unnamed: 0          Social Explorer - Census 2010  Unnamed: 2  \\\n",
       "0               Statistics  Census Tract 9, Hamilton County, Ohio         NaN   \n",
       "1                      NaN                                    NaN         NaN   \n",
       "2  SE:T1. Total Population                                    NaN         NaN   \n",
       "3         Total Population                                   1652         NaN   \n",
       "4                      NaN                                    NaN         NaN   \n",
       "\n",
       "                               Unnamed: 3  Unnamed: 4  \\\n",
       "0  Census Tract 10, Hamilton County, Ohio         NaN   \n",
       "1                                     NaN         NaN   \n",
       "2                                     NaN         NaN   \n",
       "3                                    1437         NaN   \n",
       "4                                     NaN         NaN   \n",
       "\n",
       "                               Unnamed: 5  Unnamed: 6  \\\n",
       "0  Census Tract 16, Hamilton County, Ohio         NaN   \n",
       "1                                     NaN         NaN   \n",
       "2                                     NaN         NaN   \n",
       "3                                    1487         NaN   \n",
       "4                                     NaN         NaN   \n",
       "\n",
       "                               Unnamed: 7  Unnamed: 8  \\\n",
       "0  Census Tract 17, Hamilton County, Ohio         NaN   \n",
       "1                                     NaN         NaN   \n",
       "2                                     NaN         NaN   \n",
       "3                                    1488         NaN   \n",
       "4                                     NaN         NaN   \n",
       "\n",
       "                           Unnamed: 9  Unnamed: 10  \n",
       "0  TOTAL (All Selected Census Tracts)          NaN  \n",
       "1                                 NaN          NaN  \n",
       "2                                 NaN          NaN  \n",
       "3                                6064          NaN  \n",
       "4                                 NaN          NaN  "
      ]
     },
     "execution_count": 14,
     "metadata": {},
     "output_type": "execute_result"
    }
   ],
   "source": [
    "#Info about rows and columns\n",
    "pdf2010.shape\n",
    "\n",
    "#Changing the number of rows displayed\n",
    "pd.set_option('display.max_rows', None)\n",
    "\n",
    "#displaying first 5 rows\n",
    "pdf2010.head()"
   ]
  },
  {
   "cell_type": "markdown",
   "id": "412abd59-34b2-4c45-affd-3f7727a74922",
   "metadata": {},
   "source": [
    "# Cleaning Data "
   ]
  },
  {
   "cell_type": "code",
   "execution_count": 4,
   "id": "ef66f088-18cc-41b7-a5ed-fb3f82edc418",
   "metadata": {},
   "outputs": [
    {
     "data": {
      "text/plain": [
       "['Unnamed: 0',\n",
       " 'Social Explorer - Census 2010',\n",
       " 'Unnamed: 2',\n",
       " 'Unnamed: 3',\n",
       " 'Unnamed: 4',\n",
       " 'Unnamed: 5',\n",
       " 'Unnamed: 6',\n",
       " 'Unnamed: 7',\n",
       " 'Unnamed: 8',\n",
       " 'Unnamed: 9',\n",
       " 'Unnamed: 10']"
      ]
     },
     "execution_count": 4,
     "metadata": {},
     "output_type": "execute_result"
    }
   ],
   "source": [
    "#Removing rows with all NaN values \n",
    "pdf2010 = pdf2010.dropna(subset=[\"Unnamed: 0\"])\n",
    "pdf2010 = pdf2010.dropna(subset=[\"Social Explorer - Census 2010\"])\n",
    "\n",
    "# Replacing NaN by 0s\n",
    "pdf2010 = pdf2010.fillna(0)\n",
    "\n",
    "#Dropping first row\n",
    "pdf2010 = pdf2010.drop([0])\n",
    "\n",
    "#Showing a list of columns names\n",
    "list(pdf2010)"
   ]
  },
  {
   "cell_type": "code",
   "execution_count": 5,
   "id": "3e040992-addd-4e76-a2fe-702149b034bf",
   "metadata": {},
   "outputs": [],
   "source": [
    "#Renaming columns\n",
    "pdf2010.columns = ['Category',\n",
    "                   'Census Tract 9, Hamilton County, Ohio',\n",
    "                   'Census Tract 9, Percentage',\n",
    "                   'Census Tract 10, Hamilton County, Ohio',\n",
    "                   'Census Tract 10, Percentage',\n",
    "                   'Census Tract 16, Hamilton County, Ohio',\n",
    "                   'Census Tract 16, Percentage',\n",
    "                   'Census Tract 17, Hamilton County, Ohio',\n",
    "                   'Census Tract 17, Percentage',\n",
    "                   'TOTAL (All Selected Census Tracts)',\n",
    "                   'TOTAL Percentage']"
   ]
  },
  {
   "cell_type": "code",
   "execution_count": 6,
   "id": "58e383ca-71a1-44ba-bfbe-2e7a04bcb12d",
   "metadata": {},
   "outputs": [],
   "source": [
    "#Removing columns I dont want\n",
    "for col in pdf2010.columns:\n",
    "    if 'Percentage' in col:\n",
    "        del pdf2010[col]\n",
    "             "
   ]
  },
  {
   "cell_type": "code",
   "execution_count": 7,
   "id": "baae392a-bbf3-4640-9f3e-2786349edc17",
   "metadata": {},
   "outputs": [],
   "source": [
    "#Obtaining index values of all the rows\n",
    "pdf2010.index.values\n",
    "\n",
    "#Removing all the rows I don't want\n",
    "pdf2010 = pdf2010.drop([ 3,   6,   7,   8,  11,  12,  13,  16,  17,  18,  21,  22,  23,\n",
    "        24,  25,  26,  27,  28,  29,  30,  31,  32,  33,  36,  37,  38,\n",
    "        48,  51,  52,  53,  54,  55,\n",
    "        56,  57,  58,  59,  60,  61,  62,  63,  64,  65,  66,  67,  70,\n",
    "        71,  72,  73,  74,  75,  76,  77,  78,  81,  82,  83,  84,  85,\n",
    "        86,  87,  88,  89,  90,  91,  92,  93,  94,  95,  96,  97,  98,\n",
    "       101, 104, 105, 106, 109, 110, 111, 114, 115, 116, 117])\n"
   ]
  },
  {
   "cell_type": "code",
   "execution_count": 8,
   "id": "168757c1-0d76-4cd1-b18f-f754e9523b86",
   "metadata": {},
   "outputs": [
    {
     "data": {
      "text/plain": [
       "Category                                   object\n",
       "Census Tract 9, Hamilton County, Ohio     float64\n",
       "Census Tract 10, Hamilton County, Ohio    float64\n",
       "Census Tract 16, Hamilton County, Ohio    float64\n",
       "Census Tract 17, Hamilton County, Ohio    float64\n",
       "TOTAL (All Selected Census Tracts)        float64\n",
       "dtype: object"
      ]
     },
     "execution_count": 8,
     "metadata": {},
     "output_type": "execute_result"
    }
   ],
   "source": [
    "#Changing the data to floats\n",
    "pdf2010 = pdf2010.astype({'Census Tract 9, Hamilton County, Ohio': np.float64, 'Census Tract 10, Hamilton County, Ohio':np.float64,\n",
    "                          'Census Tract 16, Hamilton County, Ohio':np.float64,'Census Tract 17, Hamilton County, Ohio':np.float64,\n",
    "                          'TOTAL (All Selected Census Tracts)':np.float64})\n",
    "\n",
    "#Checking if data are floats now\n",
    "pdf2010.dtypes"
   ]
  },
  {
   "cell_type": "code",
   "execution_count": 9,
   "id": "cf26812e-6071-4796-b80b-ed78008c0471",
   "metadata": {},
   "outputs": [
    {
     "data": {
      "text/html": [
       "<div>\n",
       "<style scoped>\n",
       "    .dataframe tbody tr th:only-of-type {\n",
       "        vertical-align: middle;\n",
       "    }\n",
       "\n",
       "    .dataframe tbody tr th {\n",
       "        vertical-align: top;\n",
       "    }\n",
       "\n",
       "    .dataframe thead th {\n",
       "        text-align: right;\n",
       "    }\n",
       "</style>\n",
       "<table border=\"1\" class=\"dataframe\">\n",
       "  <thead>\n",
       "    <tr style=\"text-align: right;\">\n",
       "      <th></th>\n",
       "      <th>Category</th>\n",
       "      <th>Census Tract 9, Hamilton County, Ohio</th>\n",
       "      <th>Census Tract 10, Hamilton County, Ohio</th>\n",
       "      <th>Census Tract 16, Hamilton County, Ohio</th>\n",
       "      <th>Census Tract 17, Hamilton County, Ohio</th>\n",
       "      <th>TOTAL (All Selected Census Tracts)</th>\n",
       "    </tr>\n",
       "  </thead>\n",
       "  <tbody>\n",
       "    <tr>\n",
       "      <th>41</th>\n",
       "      <td>Total population:</td>\n",
       "      <td>1652.0</td>\n",
       "      <td>1437.0</td>\n",
       "      <td>1487.0</td>\n",
       "      <td>1488.0</td>\n",
       "      <td>6064.0</td>\n",
       "    </tr>\n",
       "    <tr>\n",
       "      <th>42</th>\n",
       "      <td>White alone</td>\n",
       "      <td>539.0</td>\n",
       "      <td>578.0</td>\n",
       "      <td>200.0</td>\n",
       "      <td>201.0</td>\n",
       "      <td>1518.0</td>\n",
       "    </tr>\n",
       "    <tr>\n",
       "      <th>43</th>\n",
       "      <td>Black or African American alone</td>\n",
       "      <td>1059.0</td>\n",
       "      <td>791.0</td>\n",
       "      <td>1270.0</td>\n",
       "      <td>1241.0</td>\n",
       "      <td>4361.0</td>\n",
       "    </tr>\n",
       "    <tr>\n",
       "      <th>44</th>\n",
       "      <td>American Indian and Alaska Native alone</td>\n",
       "      <td>10.0</td>\n",
       "      <td>3.0</td>\n",
       "      <td>1.0</td>\n",
       "      <td>3.0</td>\n",
       "      <td>17.0</td>\n",
       "    </tr>\n",
       "    <tr>\n",
       "      <th>45</th>\n",
       "      <td>Asian alone</td>\n",
       "      <td>12.0</td>\n",
       "      <td>24.0</td>\n",
       "      <td>3.0</td>\n",
       "      <td>7.0</td>\n",
       "      <td>46.0</td>\n",
       "    </tr>\n",
       "    <tr>\n",
       "      <th>46</th>\n",
       "      <td>Native Hawaiian and Other Pacific Islander alone</td>\n",
       "      <td>0.0</td>\n",
       "      <td>0.0</td>\n",
       "      <td>0.0</td>\n",
       "      <td>0.0</td>\n",
       "      <td>0.0</td>\n",
       "    </tr>\n",
       "    <tr>\n",
       "      <th>47</th>\n",
       "      <td>Some Other Race alone</td>\n",
       "      <td>6.0</td>\n",
       "      <td>8.0</td>\n",
       "      <td>0.0</td>\n",
       "      <td>2.0</td>\n",
       "      <td>16.0</td>\n",
       "    </tr>\n",
       "  </tbody>\n",
       "</table>\n",
       "</div>"
      ],
      "text/plain": [
       "                                            Category  \\\n",
       "41                                 Total population:   \n",
       "42                                       White alone   \n",
       "43                   Black or African American alone   \n",
       "44           American Indian and Alaska Native alone   \n",
       "45                                       Asian alone   \n",
       "46  Native Hawaiian and Other Pacific Islander alone   \n",
       "47                             Some Other Race alone   \n",
       "\n",
       "    Census Tract 9, Hamilton County, Ohio  \\\n",
       "41                                 1652.0   \n",
       "42                                  539.0   \n",
       "43                                 1059.0   \n",
       "44                                   10.0   \n",
       "45                                   12.0   \n",
       "46                                    0.0   \n",
       "47                                    6.0   \n",
       "\n",
       "    Census Tract 10, Hamilton County, Ohio  \\\n",
       "41                                  1437.0   \n",
       "42                                   578.0   \n",
       "43                                   791.0   \n",
       "44                                     3.0   \n",
       "45                                    24.0   \n",
       "46                                     0.0   \n",
       "47                                     8.0   \n",
       "\n",
       "    Census Tract 16, Hamilton County, Ohio  \\\n",
       "41                                  1487.0   \n",
       "42                                   200.0   \n",
       "43                                  1270.0   \n",
       "44                                     1.0   \n",
       "45                                     3.0   \n",
       "46                                     0.0   \n",
       "47                                     0.0   \n",
       "\n",
       "    Census Tract 17, Hamilton County, Ohio  TOTAL (All Selected Census Tracts)  \n",
       "41                                  1488.0                              6064.0  \n",
       "42                                   201.0                              1518.0  \n",
       "43                                  1241.0                              4361.0  \n",
       "44                                     3.0                                17.0  \n",
       "45                                     7.0                                46.0  \n",
       "46                                     0.0                                 0.0  \n",
       "47                                     2.0                                16.0  "
      ]
     },
     "execution_count": 9,
     "metadata": {},
     "output_type": "execute_result"
    }
   ],
   "source": [
    "pdf2010"
   ]
  },
  {
   "cell_type": "markdown",
   "id": "9420ab8e-1388-4c4a-9807-6e143b6d603e",
   "metadata": {},
   "source": [
    "# Creating Visualizations"
   ]
  },
  {
   "cell_type": "code",
   "execution_count": 10,
   "id": "c8d881ab-66bf-49ef-83a3-72e3bd26e032",
   "metadata": {},
   "outputs": [
    {
     "data": {
      "text/plain": [
       "<AxesSubplot:xlabel='Category'>"
      ]
     },
     "execution_count": 10,
     "metadata": {},
     "output_type": "execute_result"
    },
    {
     "data": {
      "image/png": "[encoded data removed]",
      "text/plain": [
       "<Figure size 720x720 with 1 Axes>"
      ]
     },
     "metadata": {
      "needs_background": "light"
     },
     "output_type": "display_data"
    }
   ],
   "source": [
    "pdf2010.iloc[1:7].plot.bar(x = 'Category', y = 'TOTAL (All Selected Census Tracts)', figsize=(10,10))"
   ]
  },
  {
   "cell_type": "code",
   "execution_count": 11,
   "id": "fc18ac10-06df-4ed2-898f-c2f4b3888715",
   "metadata": {},
   "outputs": [],
   "source": [
    "pdf2010.to_pickle('pdf2010.pkl')"
   ]
  },
  {
   "cell_type": "code",
   "execution_count": null,
   "id": "45070220-a4d6-46b4-92ad-76dba7210f9e",
   "metadata": {},
   "outputs": [],
   "source": []
  }
 ],
 "metadata": {
  "kernelspec": {
   "display_name": "Python 3 (ipykernel)",
   "language": "python",
   "name": "python3"
  },
  "language_info": {
   "codemirror_mode": {
    "name": "ipython",
    "version": 3
   },
   "file_extension": ".py",
   "mimetype": "text/x-python",
   "name": "python",
   "nbconvert_exporter": "python",
   "pygments_lexer": "ipython3",
   "version": "3.8.13"
  }
 },
 "nbformat": 4,
 "nbformat_minor": 5
}
