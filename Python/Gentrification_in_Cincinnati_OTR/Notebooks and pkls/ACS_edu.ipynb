{
 "cells": [
  {
   "cell_type": "markdown",
   "id": "b68834b6-4c38-4f6e-9757-64624ff37028",
   "metadata": {},
   "source": [
    "# Importing needed libraries"
   ]
  },
  {
   "cell_type": "code",
   "execution_count": 1,
   "id": "81c5b114-9216-4d18-bcdb-7ba807c50550",
   "metadata": {},
   "outputs": [],
   "source": [
    "import pandas as pd\n",
    "import matplotlib.pyplot as plt\n",
    "import openpyxl\n",
    "import numpy as np"
   ]
  },
  {
   "cell_type": "markdown",
   "id": "ced8fc63-a513-49d7-98d4-65f42ef590ba",
   "metadata": {},
   "source": [
    "# Importing Data"
   ]
  },
  {
   "cell_type": "code",
   "execution_count": 3,
   "id": "be143725-227c-4c8d-99e8-9344652b66bc",
   "metadata": {},
   "outputs": [],
   "source": [
    "#Importing data\n",
    "df_edu_2000 = pd.read_excel('./../Data sets/2000 edu.xlsx')\n",
    "df_edu_2010 = pd.read_excel('./../Data sets/2010 edu.xlsx')\n",
    "df_edu_2020 = pd.read_excel('./../Data sets/2020 edu.xlsx')\n",
    "\n",
    "#Changing the number of rows displayed\n",
    "pd.set_option('display.max_rows', None)"
   ]
  },
  {
   "cell_type": "markdown",
   "id": "66fd9a93-741a-4549-b8a5-8fb9d8f8afe9",
   "metadata": {},
   "source": [
    "# Cleaning Data"
   ]
  },
  {
   "cell_type": "code",
   "execution_count": 4,
   "id": "866ccbe6-e594-4b1f-9a6c-6720d56ec99d",
   "metadata": {},
   "outputs": [],
   "source": [
    "# Creating a dataframe for education achievement in years 2000, 2010, 2020\n",
    "#Selecting the only the rows about education \n",
    "df_edu_2000 = df_edu_2000.iloc[16:24]\n",
    "df_edu_2010 = df_edu_2010.iloc[11:19]\n",
    "df_edu_2020 = df_edu_2020.iloc[11:19]\n",
    "\n",
    "\n",
    "#Renaming columns\n",
    "df_edu_2000.columns = ['Category',\n",
    "                   'Census Tract 9, Hamilton County, Ohio',\n",
    "                   'Census Tract 10, Hamilton County, Ohio',\n",
    "                   'Census Tract 16, Hamilton County, Ohio',\n",
    "                   'Census Tract 17, Hamilton County, Ohio',\n",
    "                   'TOTAL (All Selected Census Tracts)']\n",
    "\n",
    "#Renaming columns\n",
    "df_edu_2010.columns = ['Category',\n",
    "                   'Census Tract 9, Hamilton County, Ohio',\n",
    "                   'Census Tract 10, Hamilton County, Ohio',\n",
    "                   'Census Tract 16, Hamilton County, Ohio',\n",
    "                   'Census Tract 17, Hamilton County, Ohio',\n",
    "                   'TOTAL (All Selected Census Tracts)']\n",
    "\n",
    "#Renaming columns\n",
    "df_edu_2020.columns = ['Category',\n",
    "                   'Census Tract 9, Hamilton County, Ohio',\n",
    "                   'Census Tract 10, Hamilton County, Ohio',\n",
    "                   'Census Tract 16, Hamilton County, Ohio',\n",
    "                   'Census Tract 17, Hamilton County, Ohio',\n",
    "                   'TOTAL (All Selected Census Tracts)']"
   ]
  },
  {
   "cell_type": "code",
   "execution_count": 5,
   "id": "54a7a315-1700-4e18-849a-9e54faacacfd",
   "metadata": {},
   "outputs": [],
   "source": [
    "df_edu_2000.to_pickle('df_edu_2000.pkl')\n",
    "df_edu_2010.to_pickle('df_edu_2010.pkl')\n",
    "df_edu_2020.to_pickle('df_edu_2020.pkl')"
   ]
  }
 ],
 "metadata": {
  "kernelspec": {
   "display_name": "Python 3 (ipykernel)",
   "language": "python",
   "name": "python3"
  },
  "language_info": {
   "codemirror_mode": {
    "name": "ipython",
    "version": 3
   },
   "file_extension": ".py",
   "mimetype": "text/x-python",
   "name": "python",
   "nbconvert_exporter": "python",
   "pygments_lexer": "ipython3",
   "version": "3.8.13"
  }
 },
 "nbformat": 4,
 "nbformat_minor": 5
}
